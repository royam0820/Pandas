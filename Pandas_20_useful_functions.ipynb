{
  "nbformat": 4,
  "nbformat_minor": 0,
  "metadata": {
    "colab": {
      "name": "Pandas_20_useful_functions.ipynb",
      "provenance": [],
      "collapsed_sections": [],
      "authorship_tag": "ABX9TyMjgu0GFqr3l5h1laptDiuC",
      "include_colab_link": true
    },
    "kernelspec": {
      "name": "python3",
      "display_name": "Python 3"
    }
  },
  "cells": [
    {
      "cell_type": "markdown",
      "metadata": {
        "id": "view-in-github",
        "colab_type": "text"
      },
      "source": [
        "<a href=\"https://colab.research.google.com/github/royam0820/Pandas/blob/master/Pandas_20_useful_functions.ipynb\" target=\"_parent\"><img src=\"https://colab.research.google.com/assets/colab-badge.svg\" alt=\"Open In Colab\"/></a>"
      ]
    },
    {
      "cell_type": "markdown",
      "metadata": {
        "id": "1bZX8Bwk_8Z8",
        "colab_type": "text"
      },
      "source": [
        "# 20 Pandas function to accelerate your data analysis\n",
        "[Ref.](https://towardsdatascience.com/20-pandas-functions-that-will-boost-your-data-analysis-process-f5dfdb2f9e05)"
      ]
    },
    {
      "cell_type": "code",
      "metadata": {
        "id": "iBJJMKpO_cVV",
        "colab_type": "code",
        "colab": {}
      },
      "source": [
        "import numpy as np\n",
        "import pandas as pd"
      ],
      "execution_count": 4,
      "outputs": []
    },
    {
      "cell_type": "markdown",
      "metadata": {
        "id": "NAVrWBrcAOHp",
        "colab_type": "text"
      },
      "source": [
        "## Query\n",
        "We sometimes need to filter a dataframe based on a condition or apply a mask to get certain values. One easy way to filter a dataframe is query function. Let’s first create a sample dataframe."
      ]
    },
    {
      "cell_type": "code",
      "metadata": {
        "id": "K2BstSFt_jez",
        "colab_type": "code",
        "colab": {
          "base_uri": "https://localhost:8080/",
          "height": 343
        },
        "outputId": "ec4c650d-2eeb-44b9-e644-74553640b460"
      },
      "source": [
        "values_1 = np.random.randint(10, size=10)\n",
        "values_2 = np.random.randint(10, size=10)\n",
        "years = np.arange(2010,2020)\n",
        "groups = ['A','A','B','A','B','B','C','A','C','C']\n",
        "df = pd.DataFrame({'group':groups, 'year':years, 'value_1':values_1, 'value_2':values_2})\n",
        "df"
      ],
      "execution_count": null,
      "outputs": [
        {
          "output_type": "execute_result",
          "data": {
            "text/html": [
              "<div>\n",
              "<style scoped>\n",
              "    .dataframe tbody tr th:only-of-type {\n",
              "        vertical-align: middle;\n",
              "    }\n",
              "\n",
              "    .dataframe tbody tr th {\n",
              "        vertical-align: top;\n",
              "    }\n",
              "\n",
              "    .dataframe thead th {\n",
              "        text-align: right;\n",
              "    }\n",
              "</style>\n",
              "<table border=\"1\" class=\"dataframe\">\n",
              "  <thead>\n",
              "    <tr style=\"text-align: right;\">\n",
              "      <th></th>\n",
              "      <th>group</th>\n",
              "      <th>year</th>\n",
              "      <th>value_1</th>\n",
              "      <th>value_2</th>\n",
              "    </tr>\n",
              "  </thead>\n",
              "  <tbody>\n",
              "    <tr>\n",
              "      <th>0</th>\n",
              "      <td>A</td>\n",
              "      <td>2010</td>\n",
              "      <td>3</td>\n",
              "      <td>3</td>\n",
              "    </tr>\n",
              "    <tr>\n",
              "      <th>1</th>\n",
              "      <td>A</td>\n",
              "      <td>2011</td>\n",
              "      <td>3</td>\n",
              "      <td>3</td>\n",
              "    </tr>\n",
              "    <tr>\n",
              "      <th>2</th>\n",
              "      <td>B</td>\n",
              "      <td>2012</td>\n",
              "      <td>2</td>\n",
              "      <td>4</td>\n",
              "    </tr>\n",
              "    <tr>\n",
              "      <th>3</th>\n",
              "      <td>A</td>\n",
              "      <td>2013</td>\n",
              "      <td>3</td>\n",
              "      <td>8</td>\n",
              "    </tr>\n",
              "    <tr>\n",
              "      <th>4</th>\n",
              "      <td>B</td>\n",
              "      <td>2014</td>\n",
              "      <td>6</td>\n",
              "      <td>2</td>\n",
              "    </tr>\n",
              "    <tr>\n",
              "      <th>5</th>\n",
              "      <td>B</td>\n",
              "      <td>2015</td>\n",
              "      <td>1</td>\n",
              "      <td>3</td>\n",
              "    </tr>\n",
              "    <tr>\n",
              "      <th>6</th>\n",
              "      <td>C</td>\n",
              "      <td>2016</td>\n",
              "      <td>1</td>\n",
              "      <td>9</td>\n",
              "    </tr>\n",
              "    <tr>\n",
              "      <th>7</th>\n",
              "      <td>A</td>\n",
              "      <td>2017</td>\n",
              "      <td>2</td>\n",
              "      <td>2</td>\n",
              "    </tr>\n",
              "    <tr>\n",
              "      <th>8</th>\n",
              "      <td>C</td>\n",
              "      <td>2018</td>\n",
              "      <td>7</td>\n",
              "      <td>9</td>\n",
              "    </tr>\n",
              "    <tr>\n",
              "      <th>9</th>\n",
              "      <td>C</td>\n",
              "      <td>2019</td>\n",
              "      <td>7</td>\n",
              "      <td>4</td>\n",
              "    </tr>\n",
              "  </tbody>\n",
              "</table>\n",
              "</div>"
            ],
            "text/plain": [
              "  group  year  value_1  value_2\n",
              "0     A  2010        3        3\n",
              "1     A  2011        3        3\n",
              "2     B  2012        2        4\n",
              "3     A  2013        3        8\n",
              "4     B  2014        6        2\n",
              "5     B  2015        1        3\n",
              "6     C  2016        1        9\n",
              "7     A  2017        2        2\n",
              "8     C  2018        7        9\n",
              "9     C  2019        7        4"
            ]
          },
          "metadata": {
            "tags": []
          },
          "execution_count": 51
        }
      ]
    },
    {
      "cell_type": "markdown",
      "metadata": {
        "id": "Frc-2B8qAbyc",
        "colab_type": "text"
      },
      "source": [
        "It is very simple to use query function which only requires to write the condition for filtering."
      ]
    },
    {
      "cell_type": "code",
      "metadata": {
        "id": "d181EdWo_nBF",
        "colab_type": "code",
        "colab": {
          "base_uri": "https://localhost:8080/",
          "height": 166
        },
        "outputId": "42af9a9d-2d29-4835-daea-fcf38991507a"
      },
      "source": [
        "df.query('value_1 < value_2')"
      ],
      "execution_count": null,
      "outputs": [
        {
          "output_type": "execute_result",
          "data": {
            "text/html": [
              "<div>\n",
              "<style scoped>\n",
              "    .dataframe tbody tr th:only-of-type {\n",
              "        vertical-align: middle;\n",
              "    }\n",
              "\n",
              "    .dataframe tbody tr th {\n",
              "        vertical-align: top;\n",
              "    }\n",
              "\n",
              "    .dataframe thead th {\n",
              "        text-align: right;\n",
              "    }\n",
              "</style>\n",
              "<table border=\"1\" class=\"dataframe\">\n",
              "  <thead>\n",
              "    <tr style=\"text-align: right;\">\n",
              "      <th></th>\n",
              "      <th>group</th>\n",
              "      <th>year</th>\n",
              "      <th>value_1</th>\n",
              "      <th>value_2</th>\n",
              "    </tr>\n",
              "  </thead>\n",
              "  <tbody>\n",
              "    <tr>\n",
              "      <th>1</th>\n",
              "      <td>A</td>\n",
              "      <td>2011</td>\n",
              "      <td>4</td>\n",
              "      <td>5</td>\n",
              "    </tr>\n",
              "    <tr>\n",
              "      <th>6</th>\n",
              "      <td>C</td>\n",
              "      <td>2016</td>\n",
              "      <td>0</td>\n",
              "      <td>8</td>\n",
              "    </tr>\n",
              "    <tr>\n",
              "      <th>8</th>\n",
              "      <td>C</td>\n",
              "      <td>2018</td>\n",
              "      <td>4</td>\n",
              "      <td>9</td>\n",
              "    </tr>\n",
              "    <tr>\n",
              "      <th>9</th>\n",
              "      <td>C</td>\n",
              "      <td>2019</td>\n",
              "      <td>6</td>\n",
              "      <td>7</td>\n",
              "    </tr>\n",
              "  </tbody>\n",
              "</table>\n",
              "</div>"
            ],
            "text/plain": [
              "  group  year  value_1  value_2\n",
              "1     A  2011        4        5\n",
              "6     C  2016        0        8\n",
              "8     C  2018        4        9\n",
              "9     C  2019        6        7"
            ]
          },
          "metadata": {
            "tags": []
          },
          "execution_count": 3
        }
      ]
    },
    {
      "cell_type": "markdown",
      "metadata": {
        "id": "wT7ZZYt6Ak_p",
        "colab_type": "text"
      },
      "source": [
        "## Insert\n",
        "When we want to add a new column to a dataframe, it is added at the end by default. However, pandas offers the option to add the new column in any position using insert function.\n",
        "\n",
        "We need to specify the position by passing an index as first argument. This value must be an integer. Column indices start from zero just like row indices. The second argument is column name and the third argument is the object that includes values which can be Series or an array-like object."
      ]
    },
    {
      "cell_type": "code",
      "metadata": {
        "id": "OK0fFdogAgMw",
        "colab_type": "code",
        "colab": {
          "base_uri": "https://localhost:8080/",
          "height": 343
        },
        "outputId": "01569fdc-3db7-44fc-fa7b-eceb0d862b9f"
      },
      "source": [
        "#new column\n",
        "new_col = np.random.randn(10)\n",
        "#insert the new column at position 2\n",
        "df.insert(2, 'new_col', new_col)\n",
        "df"
      ],
      "execution_count": null,
      "outputs": [
        {
          "output_type": "execute_result",
          "data": {
            "text/html": [
              "<div>\n",
              "<style scoped>\n",
              "    .dataframe tbody tr th:only-of-type {\n",
              "        vertical-align: middle;\n",
              "    }\n",
              "\n",
              "    .dataframe tbody tr th {\n",
              "        vertical-align: top;\n",
              "    }\n",
              "\n",
              "    .dataframe thead th {\n",
              "        text-align: right;\n",
              "    }\n",
              "</style>\n",
              "<table border=\"1\" class=\"dataframe\">\n",
              "  <thead>\n",
              "    <tr style=\"text-align: right;\">\n",
              "      <th></th>\n",
              "      <th>group</th>\n",
              "      <th>year</th>\n",
              "      <th>new_col</th>\n",
              "      <th>value_1</th>\n",
              "      <th>value_2</th>\n",
              "    </tr>\n",
              "  </thead>\n",
              "  <tbody>\n",
              "    <tr>\n",
              "      <th>0</th>\n",
              "      <td>A</td>\n",
              "      <td>2010</td>\n",
              "      <td>-0.364396</td>\n",
              "      <td>9</td>\n",
              "      <td>5</td>\n",
              "    </tr>\n",
              "    <tr>\n",
              "      <th>1</th>\n",
              "      <td>A</td>\n",
              "      <td>2011</td>\n",
              "      <td>-0.984679</td>\n",
              "      <td>4</td>\n",
              "      <td>5</td>\n",
              "    </tr>\n",
              "    <tr>\n",
              "      <th>2</th>\n",
              "      <td>B</td>\n",
              "      <td>2012</td>\n",
              "      <td>-0.362939</td>\n",
              "      <td>9</td>\n",
              "      <td>6</td>\n",
              "    </tr>\n",
              "    <tr>\n",
              "      <th>3</th>\n",
              "      <td>A</td>\n",
              "      <td>2013</td>\n",
              "      <td>-0.084668</td>\n",
              "      <td>3</td>\n",
              "      <td>2</td>\n",
              "    </tr>\n",
              "    <tr>\n",
              "      <th>4</th>\n",
              "      <td>B</td>\n",
              "      <td>2014</td>\n",
              "      <td>0.821039</td>\n",
              "      <td>7</td>\n",
              "      <td>5</td>\n",
              "    </tr>\n",
              "    <tr>\n",
              "      <th>5</th>\n",
              "      <td>B</td>\n",
              "      <td>2015</td>\n",
              "      <td>-0.494079</td>\n",
              "      <td>2</td>\n",
              "      <td>0</td>\n",
              "    </tr>\n",
              "    <tr>\n",
              "      <th>6</th>\n",
              "      <td>C</td>\n",
              "      <td>2016</td>\n",
              "      <td>1.215772</td>\n",
              "      <td>0</td>\n",
              "      <td>8</td>\n",
              "    </tr>\n",
              "    <tr>\n",
              "      <th>7</th>\n",
              "      <td>A</td>\n",
              "      <td>2017</td>\n",
              "      <td>0.449528</td>\n",
              "      <td>7</td>\n",
              "      <td>1</td>\n",
              "    </tr>\n",
              "    <tr>\n",
              "      <th>8</th>\n",
              "      <td>C</td>\n",
              "      <td>2018</td>\n",
              "      <td>-1.753770</td>\n",
              "      <td>4</td>\n",
              "      <td>9</td>\n",
              "    </tr>\n",
              "    <tr>\n",
              "      <th>9</th>\n",
              "      <td>C</td>\n",
              "      <td>2019</td>\n",
              "      <td>-1.391520</td>\n",
              "      <td>6</td>\n",
              "      <td>7</td>\n",
              "    </tr>\n",
              "  </tbody>\n",
              "</table>\n",
              "</div>"
            ],
            "text/plain": [
              "  group  year   new_col  value_1  value_2\n",
              "0     A  2010 -0.364396        9        5\n",
              "1     A  2011 -0.984679        4        5\n",
              "2     B  2012 -0.362939        9        6\n",
              "3     A  2013 -0.084668        3        2\n",
              "4     B  2014  0.821039        7        5\n",
              "5     B  2015 -0.494079        2        0\n",
              "6     C  2016  1.215772        0        8\n",
              "7     A  2017  0.449528        7        1\n",
              "8     C  2018 -1.753770        4        9\n",
              "9     C  2019 -1.391520        6        7"
            ]
          },
          "metadata": {
            "tags": []
          },
          "execution_count": 4
        }
      ]
    },
    {
      "cell_type": "markdown",
      "metadata": {
        "id": "JdC89hdVBGhK",
        "colab_type": "text"
      },
      "source": [
        "## Cumulative sum \n",
        "`grouby` and `cumsum`\n",
        "\n",
        "The dataframe contains some yearly values of 3 different groups. We may only be interested in yearly values but there are some cases in which we also need a cumulative sum. Pandas provides an easy-to-use function to calculate cumulative sum which is cumsum.\n",
        "\n",
        "If we only apply cumsum, groups (A, B, C) will be ignored. This kind of cumulative values may be useless in some cases because we are not able to distinguish between groups. Don’t worry! There is a very simple and convenient solution for this issue. We can apply groupby and then cumsum function."
      ]
    },
    {
      "cell_type": "code",
      "metadata": {
        "id": "BIwoTu5FA6df",
        "colab_type": "code",
        "colab": {
          "base_uri": "https://localhost:8080/",
          "height": 343
        },
        "outputId": "26a1e5cf-71c0-4257-aa54-a20558f21177"
      },
      "source": [
        "df['cumsum_2'] = df[['value_2','group']].groupby('group').cumsum()\n",
        "df"
      ],
      "execution_count": null,
      "outputs": [
        {
          "output_type": "execute_result",
          "data": {
            "text/html": [
              "<div>\n",
              "<style scoped>\n",
              "    .dataframe tbody tr th:only-of-type {\n",
              "        vertical-align: middle;\n",
              "    }\n",
              "\n",
              "    .dataframe tbody tr th {\n",
              "        vertical-align: top;\n",
              "    }\n",
              "\n",
              "    .dataframe thead th {\n",
              "        text-align: right;\n",
              "    }\n",
              "</style>\n",
              "<table border=\"1\" class=\"dataframe\">\n",
              "  <thead>\n",
              "    <tr style=\"text-align: right;\">\n",
              "      <th></th>\n",
              "      <th>group</th>\n",
              "      <th>year</th>\n",
              "      <th>new_col</th>\n",
              "      <th>value_1</th>\n",
              "      <th>value_2</th>\n",
              "      <th>cumsum_2</th>\n",
              "    </tr>\n",
              "  </thead>\n",
              "  <tbody>\n",
              "    <tr>\n",
              "      <th>0</th>\n",
              "      <td>A</td>\n",
              "      <td>2010</td>\n",
              "      <td>-0.364396</td>\n",
              "      <td>9</td>\n",
              "      <td>5</td>\n",
              "      <td>5</td>\n",
              "    </tr>\n",
              "    <tr>\n",
              "      <th>1</th>\n",
              "      <td>A</td>\n",
              "      <td>2011</td>\n",
              "      <td>-0.984679</td>\n",
              "      <td>4</td>\n",
              "      <td>5</td>\n",
              "      <td>10</td>\n",
              "    </tr>\n",
              "    <tr>\n",
              "      <th>2</th>\n",
              "      <td>B</td>\n",
              "      <td>2012</td>\n",
              "      <td>-0.362939</td>\n",
              "      <td>9</td>\n",
              "      <td>6</td>\n",
              "      <td>6</td>\n",
              "    </tr>\n",
              "    <tr>\n",
              "      <th>3</th>\n",
              "      <td>A</td>\n",
              "      <td>2013</td>\n",
              "      <td>-0.084668</td>\n",
              "      <td>3</td>\n",
              "      <td>2</td>\n",
              "      <td>12</td>\n",
              "    </tr>\n",
              "    <tr>\n",
              "      <th>4</th>\n",
              "      <td>B</td>\n",
              "      <td>2014</td>\n",
              "      <td>0.821039</td>\n",
              "      <td>7</td>\n",
              "      <td>5</td>\n",
              "      <td>11</td>\n",
              "    </tr>\n",
              "    <tr>\n",
              "      <th>5</th>\n",
              "      <td>B</td>\n",
              "      <td>2015</td>\n",
              "      <td>-0.494079</td>\n",
              "      <td>2</td>\n",
              "      <td>0</td>\n",
              "      <td>11</td>\n",
              "    </tr>\n",
              "    <tr>\n",
              "      <th>6</th>\n",
              "      <td>C</td>\n",
              "      <td>2016</td>\n",
              "      <td>1.215772</td>\n",
              "      <td>0</td>\n",
              "      <td>8</td>\n",
              "      <td>8</td>\n",
              "    </tr>\n",
              "    <tr>\n",
              "      <th>7</th>\n",
              "      <td>A</td>\n",
              "      <td>2017</td>\n",
              "      <td>0.449528</td>\n",
              "      <td>7</td>\n",
              "      <td>1</td>\n",
              "      <td>13</td>\n",
              "    </tr>\n",
              "    <tr>\n",
              "      <th>8</th>\n",
              "      <td>C</td>\n",
              "      <td>2018</td>\n",
              "      <td>-1.753770</td>\n",
              "      <td>4</td>\n",
              "      <td>9</td>\n",
              "      <td>17</td>\n",
              "    </tr>\n",
              "    <tr>\n",
              "      <th>9</th>\n",
              "      <td>C</td>\n",
              "      <td>2019</td>\n",
              "      <td>-1.391520</td>\n",
              "      <td>6</td>\n",
              "      <td>7</td>\n",
              "      <td>24</td>\n",
              "    </tr>\n",
              "  </tbody>\n",
              "</table>\n",
              "</div>"
            ],
            "text/plain": [
              "  group  year   new_col  value_1  value_2  cumsum_2\n",
              "0     A  2010 -0.364396        9        5         5\n",
              "1     A  2011 -0.984679        4        5        10\n",
              "2     B  2012 -0.362939        9        6         6\n",
              "3     A  2013 -0.084668        3        2        12\n",
              "4     B  2014  0.821039        7        5        11\n",
              "5     B  2015 -0.494079        2        0        11\n",
              "6     C  2016  1.215772        0        8         8\n",
              "7     A  2017  0.449528        7        1        13\n",
              "8     C  2018 -1.753770        4        9        17\n",
              "9     C  2019 -1.391520        6        7        24"
            ]
          },
          "metadata": {
            "tags": []
          },
          "execution_count": 5
        }
      ]
    },
    {
      "cell_type": "code",
      "metadata": {
        "id": "zY901Jt0Bl3Y",
        "colab_type": "code",
        "colab": {}
      },
      "source": [
        ""
      ],
      "execution_count": null,
      "outputs": []
    },
    {
      "cell_type": "markdown",
      "metadata": {
        "id": "-zSGrBWYB083",
        "colab_type": "text"
      },
      "source": [
        "## Series\n",
        "Sample method allows you to select values randomly from a Series or DataFrame. It is useful when we want to select a random sample from a distribution."
      ]
    },
    {
      "cell_type": "code",
      "metadata": {
        "id": "yyq0DFlLB21H",
        "colab_type": "code",
        "colab": {
          "base_uri": "https://localhost:8080/",
          "height": 136
        },
        "outputId": "e50f23ad-f7dc-4cf4-8223-e7585e532679"
      },
      "source": [
        "sample1 = df.sample(n=3)\n",
        "sample1"
      ],
      "execution_count": null,
      "outputs": [
        {
          "output_type": "execute_result",
          "data": {
            "text/html": [
              "<div>\n",
              "<style scoped>\n",
              "    .dataframe tbody tr th:only-of-type {\n",
              "        vertical-align: middle;\n",
              "    }\n",
              "\n",
              "    .dataframe tbody tr th {\n",
              "        vertical-align: top;\n",
              "    }\n",
              "\n",
              "    .dataframe thead th {\n",
              "        text-align: right;\n",
              "    }\n",
              "</style>\n",
              "<table border=\"1\" class=\"dataframe\">\n",
              "  <thead>\n",
              "    <tr style=\"text-align: right;\">\n",
              "      <th></th>\n",
              "      <th>group</th>\n",
              "      <th>year</th>\n",
              "      <th>new_col</th>\n",
              "      <th>value_1</th>\n",
              "      <th>value_2</th>\n",
              "      <th>cumsum_2</th>\n",
              "    </tr>\n",
              "  </thead>\n",
              "  <tbody>\n",
              "    <tr>\n",
              "      <th>9</th>\n",
              "      <td>C</td>\n",
              "      <td>2019</td>\n",
              "      <td>-1.391520</td>\n",
              "      <td>6</td>\n",
              "      <td>7</td>\n",
              "      <td>24</td>\n",
              "    </tr>\n",
              "    <tr>\n",
              "      <th>2</th>\n",
              "      <td>B</td>\n",
              "      <td>2012</td>\n",
              "      <td>-0.362939</td>\n",
              "      <td>9</td>\n",
              "      <td>6</td>\n",
              "      <td>6</td>\n",
              "    </tr>\n",
              "    <tr>\n",
              "      <th>0</th>\n",
              "      <td>A</td>\n",
              "      <td>2010</td>\n",
              "      <td>-0.364396</td>\n",
              "      <td>9</td>\n",
              "      <td>5</td>\n",
              "      <td>5</td>\n",
              "    </tr>\n",
              "  </tbody>\n",
              "</table>\n",
              "</div>"
            ],
            "text/plain": [
              "  group  year   new_col  value_1  value_2  cumsum_2\n",
              "9     C  2019 -1.391520        6        7        24\n",
              "2     B  2012 -0.362939        9        6         6\n",
              "0     A  2010 -0.364396        9        5         5"
            ]
          },
          "metadata": {
            "tags": []
          },
          "execution_count": 6
        }
      ]
    },
    {
      "cell_type": "markdown",
      "metadata": {
        "id": "Z5c6f0-9CDJg",
        "colab_type": "text"
      },
      "source": [
        "We specify the number of values with n parameter but we can also pass a ratio to frac parameter. For instance, 0.5 will return half of the rows."
      ]
    },
    {
      "cell_type": "code",
      "metadata": {
        "id": "tOc4I4AHB9xT",
        "colab_type": "code",
        "colab": {
          "base_uri": "https://localhost:8080/",
          "height": 195
        },
        "outputId": "34f39530-f90e-4195-9190-0bdcbefeba49"
      },
      "source": [
        "sample2 = df.sample(frac=0.5)\n",
        "sample2"
      ],
      "execution_count": null,
      "outputs": [
        {
          "output_type": "execute_result",
          "data": {
            "text/html": [
              "<div>\n",
              "<style scoped>\n",
              "    .dataframe tbody tr th:only-of-type {\n",
              "        vertical-align: middle;\n",
              "    }\n",
              "\n",
              "    .dataframe tbody tr th {\n",
              "        vertical-align: top;\n",
              "    }\n",
              "\n",
              "    .dataframe thead th {\n",
              "        text-align: right;\n",
              "    }\n",
              "</style>\n",
              "<table border=\"1\" class=\"dataframe\">\n",
              "  <thead>\n",
              "    <tr style=\"text-align: right;\">\n",
              "      <th></th>\n",
              "      <th>group</th>\n",
              "      <th>year</th>\n",
              "      <th>new_col</th>\n",
              "      <th>value_1</th>\n",
              "      <th>value_2</th>\n",
              "      <th>cumsum_2</th>\n",
              "    </tr>\n",
              "  </thead>\n",
              "  <tbody>\n",
              "    <tr>\n",
              "      <th>6</th>\n",
              "      <td>C</td>\n",
              "      <td>2016</td>\n",
              "      <td>1.215772</td>\n",
              "      <td>0</td>\n",
              "      <td>8</td>\n",
              "      <td>8</td>\n",
              "    </tr>\n",
              "    <tr>\n",
              "      <th>2</th>\n",
              "      <td>B</td>\n",
              "      <td>2012</td>\n",
              "      <td>-0.362939</td>\n",
              "      <td>9</td>\n",
              "      <td>6</td>\n",
              "      <td>6</td>\n",
              "    </tr>\n",
              "    <tr>\n",
              "      <th>3</th>\n",
              "      <td>A</td>\n",
              "      <td>2013</td>\n",
              "      <td>-0.084668</td>\n",
              "      <td>3</td>\n",
              "      <td>2</td>\n",
              "      <td>12</td>\n",
              "    </tr>\n",
              "    <tr>\n",
              "      <th>0</th>\n",
              "      <td>A</td>\n",
              "      <td>2010</td>\n",
              "      <td>-0.364396</td>\n",
              "      <td>9</td>\n",
              "      <td>5</td>\n",
              "      <td>5</td>\n",
              "    </tr>\n",
              "    <tr>\n",
              "      <th>7</th>\n",
              "      <td>A</td>\n",
              "      <td>2017</td>\n",
              "      <td>0.449528</td>\n",
              "      <td>7</td>\n",
              "      <td>1</td>\n",
              "      <td>13</td>\n",
              "    </tr>\n",
              "  </tbody>\n",
              "</table>\n",
              "</div>"
            ],
            "text/plain": [
              "  group  year   new_col  value_1  value_2  cumsum_2\n",
              "6     C  2016  1.215772        0        8         8\n",
              "2     B  2012 -0.362939        9        6         6\n",
              "3     A  2013 -0.084668        3        2        12\n",
              "0     A  2010 -0.364396        9        5         5\n",
              "7     A  2017  0.449528        7        1        13"
            ]
          },
          "metadata": {
            "tags": []
          },
          "execution_count": 7
        }
      ]
    },
    {
      "cell_type": "markdown",
      "metadata": {
        "id": "WkNHwzVZCSdZ",
        "colab_type": "text"
      },
      "source": [
        "To obtain reproducible samples, we can use random_state parameter. If an integer value is passed to random_state, the same sample will be produced every time the code is run."
      ]
    },
    {
      "cell_type": "code",
      "metadata": {
        "id": "ImCw1XHyCMyq",
        "colab_type": "code",
        "colab": {
          "base_uri": "https://localhost:8080/",
          "height": 195
        },
        "outputId": "c36e1469-33e8-445e-f385-35ec556b524f"
      },
      "source": [
        "# random_state is an int value. If set to a particular integer, it will return same rows as sample in every iteration.\n",
        "sample2 = df.sample(frac=0.5, random_state=7)\n",
        "sample2"
      ],
      "execution_count": null,
      "outputs": [
        {
          "output_type": "execute_result",
          "data": {
            "text/html": [
              "<div>\n",
              "<style scoped>\n",
              "    .dataframe tbody tr th:only-of-type {\n",
              "        vertical-align: middle;\n",
              "    }\n",
              "\n",
              "    .dataframe tbody tr th {\n",
              "        vertical-align: top;\n",
              "    }\n",
              "\n",
              "    .dataframe thead th {\n",
              "        text-align: right;\n",
              "    }\n",
              "</style>\n",
              "<table border=\"1\" class=\"dataframe\">\n",
              "  <thead>\n",
              "    <tr style=\"text-align: right;\">\n",
              "      <th></th>\n",
              "      <th>group</th>\n",
              "      <th>year</th>\n",
              "      <th>new_col</th>\n",
              "      <th>value_1</th>\n",
              "      <th>value_2</th>\n",
              "      <th>cumsum_2</th>\n",
              "    </tr>\n",
              "  </thead>\n",
              "  <tbody>\n",
              "    <tr>\n",
              "      <th>8</th>\n",
              "      <td>C</td>\n",
              "      <td>2018</td>\n",
              "      <td>-1.753770</td>\n",
              "      <td>4</td>\n",
              "      <td>9</td>\n",
              "      <td>17</td>\n",
              "    </tr>\n",
              "    <tr>\n",
              "      <th>5</th>\n",
              "      <td>B</td>\n",
              "      <td>2015</td>\n",
              "      <td>-0.494079</td>\n",
              "      <td>2</td>\n",
              "      <td>0</td>\n",
              "      <td>11</td>\n",
              "    </tr>\n",
              "    <tr>\n",
              "      <th>0</th>\n",
              "      <td>A</td>\n",
              "      <td>2010</td>\n",
              "      <td>-0.364396</td>\n",
              "      <td>9</td>\n",
              "      <td>5</td>\n",
              "      <td>5</td>\n",
              "    </tr>\n",
              "    <tr>\n",
              "      <th>2</th>\n",
              "      <td>B</td>\n",
              "      <td>2012</td>\n",
              "      <td>-0.362939</td>\n",
              "      <td>9</td>\n",
              "      <td>6</td>\n",
              "      <td>6</td>\n",
              "    </tr>\n",
              "    <tr>\n",
              "      <th>1</th>\n",
              "      <td>A</td>\n",
              "      <td>2011</td>\n",
              "      <td>-0.984679</td>\n",
              "      <td>4</td>\n",
              "      <td>5</td>\n",
              "      <td>10</td>\n",
              "    </tr>\n",
              "  </tbody>\n",
              "</table>\n",
              "</div>"
            ],
            "text/plain": [
              "  group  year   new_col  value_1  value_2  cumsum_2\n",
              "8     C  2018 -1.753770        4        9        17\n",
              "5     B  2015 -0.494079        2        0        11\n",
              "0     A  2010 -0.364396        9        5         5\n",
              "2     B  2012 -0.362939        9        6         6\n",
              "1     A  2011 -0.984679        4        5        10"
            ]
          },
          "metadata": {
            "tags": []
          },
          "execution_count": 11
        }
      ]
    },
    {
      "cell_type": "markdown",
      "metadata": {
        "id": "tjr00uhHEOVN",
        "colab_type": "text"
      },
      "source": [
        "## Where\n",
        "“Where” is used to replace values in rows or columns based on a condition. The default replacement values is `NaN` but we can also specify the value to be put as a replacement."
      ]
    },
    {
      "cell_type": "code",
      "metadata": {
        "id": "t9f52VxpDa2y",
        "colab_type": "code",
        "colab": {
          "base_uri": "https://localhost:8080/",
          "height": 202
        },
        "outputId": "d6b51fde-a461-4d25-bcba-7c615463d178"
      },
      "source": [
        "df['new_col'].where(df['new_col'] > 0 , 0)"
      ],
      "execution_count": null,
      "outputs": [
        {
          "output_type": "execute_result",
          "data": {
            "text/plain": [
              "0    0.000000\n",
              "1    0.000000\n",
              "2    0.000000\n",
              "3    0.000000\n",
              "4    0.821039\n",
              "5    0.000000\n",
              "6    1.215772\n",
              "7    0.449528\n",
              "8    0.000000\n",
              "9    0.000000\n",
              "Name: new_col, dtype: float64"
            ]
          },
          "metadata": {
            "tags": []
          },
          "execution_count": 12
        }
      ]
    },
    {
      "cell_type": "markdown",
      "metadata": {
        "id": "8aUaoIulEuwe",
        "colab_type": "text"
      },
      "source": [
        "NOTE:  The way “where” works is that values that fit the condition are selected and the remaining values are replaced with the specified value. where(df[‘new_col’]>0, 0) selects all the values in “new_col” that are greater than 0 and the remaining values are replaced with 0. Thus, where can also be considered as a **mask operation**.\n"
      ]
    },
    {
      "cell_type": "markdown",
      "metadata": {
        "id": "uXl1rxKDFAib",
        "colab_type": "text"
      },
      "source": [
        "One important point is that `where` for Pandas and NumPy are not exactly the same. We can achieve the same result but with slightly different syntax. \n",
        "- With `DataFrame.where`, the values that fit the condition are selected as is and the other values are replaced with the specified value. \n",
        "- `Np.where` requires to also specify the value for the ones that fit the condition. The following two lines return the same result:"
      ]
    },
    {
      "cell_type": "code",
      "metadata": {
        "id": "4JO8NwU1Es5x",
        "colab_type": "code",
        "colab": {
          "base_uri": "https://localhost:8080/",
          "height": 50
        },
        "outputId": "0ab02535-a7be-4bb3-89f4-fddf9df938d3"
      },
      "source": [
        "# df['new_col'].where(df['new_col'] > 0 , 0)      #dataframe.where example\n",
        "np.where(df['new_col'] > 0, df['new_col'], 0)   #np.where example"
      ],
      "execution_count": null,
      "outputs": [
        {
          "output_type": "execute_result",
          "data": {
            "text/plain": [
              "array([0.        , 0.        , 0.        , 0.        , 0.82103871,\n",
              "       0.        , 1.21577175, 0.44952842, 0.        , 0.        ])"
            ]
          },
          "metadata": {
            "tags": []
          },
          "execution_count": 18
        }
      ]
    },
    {
      "cell_type": "code",
      "metadata": {
        "id": "me0kHmkkFlvk",
        "colab_type": "code",
        "colab": {}
      },
      "source": [
        ""
      ],
      "execution_count": null,
      "outputs": []
    },
    {
      "cell_type": "markdown",
      "metadata": {
        "id": "kY4InD7JGRVL",
        "colab_type": "text"
      },
      "source": [
        "## IsIn\n",
        "We use filtering or selecting methods a lot when working with dataframes. `Isin` method is kind of an advanced filtering. For example, we can filter values based on a list of selections."
      ]
    },
    {
      "cell_type": "code",
      "metadata": {
        "id": "4KpaLR7wGTPj",
        "colab_type": "code",
        "colab": {
          "base_uri": "https://localhost:8080/",
          "height": 136
        },
        "outputId": "a434eb5b-08ec-4539-9d14-86c387987e37"
      },
      "source": [
        "years = ['2010','2014','2017']\n",
        "df[df.year.isin(years)]"
      ],
      "execution_count": null,
      "outputs": [
        {
          "output_type": "execute_result",
          "data": {
            "text/html": [
              "<div>\n",
              "<style scoped>\n",
              "    .dataframe tbody tr th:only-of-type {\n",
              "        vertical-align: middle;\n",
              "    }\n",
              "\n",
              "    .dataframe tbody tr th {\n",
              "        vertical-align: top;\n",
              "    }\n",
              "\n",
              "    .dataframe thead th {\n",
              "        text-align: right;\n",
              "    }\n",
              "</style>\n",
              "<table border=\"1\" class=\"dataframe\">\n",
              "  <thead>\n",
              "    <tr style=\"text-align: right;\">\n",
              "      <th></th>\n",
              "      <th>group</th>\n",
              "      <th>year</th>\n",
              "      <th>new_col</th>\n",
              "      <th>value_1</th>\n",
              "      <th>value_2</th>\n",
              "      <th>cumsum_2</th>\n",
              "    </tr>\n",
              "  </thead>\n",
              "  <tbody>\n",
              "    <tr>\n",
              "      <th>0</th>\n",
              "      <td>A</td>\n",
              "      <td>2010</td>\n",
              "      <td>-0.364396</td>\n",
              "      <td>9</td>\n",
              "      <td>5</td>\n",
              "      <td>5</td>\n",
              "    </tr>\n",
              "    <tr>\n",
              "      <th>4</th>\n",
              "      <td>B</td>\n",
              "      <td>2014</td>\n",
              "      <td>0.821039</td>\n",
              "      <td>7</td>\n",
              "      <td>5</td>\n",
              "      <td>11</td>\n",
              "    </tr>\n",
              "    <tr>\n",
              "      <th>7</th>\n",
              "      <td>A</td>\n",
              "      <td>2017</td>\n",
              "      <td>0.449528</td>\n",
              "      <td>7</td>\n",
              "      <td>1</td>\n",
              "      <td>13</td>\n",
              "    </tr>\n",
              "  </tbody>\n",
              "</table>\n",
              "</div>"
            ],
            "text/plain": [
              "  group  year   new_col  value_1  value_2  cumsum_2\n",
              "0     A  2010 -0.364396        9        5         5\n",
              "4     B  2014  0.821039        7        5        11\n",
              "7     A  2017  0.449528        7        1        13"
            ]
          },
          "metadata": {
            "tags": []
          },
          "execution_count": 19
        }
      ]
    },
    {
      "cell_type": "code",
      "metadata": {
        "id": "LFEzKneQGn6l",
        "colab_type": "code",
        "colab": {}
      },
      "source": [
        ""
      ],
      "execution_count": null,
      "outputs": []
    },
    {
      "cell_type": "markdown",
      "metadata": {
        "id": "YLBkGiLeGsTE",
        "colab_type": "text"
      },
      "source": [
        "## Loc and Iloc\n",
        "`loc` and `iloc` are used to select rows and columns.\n",
        "- `loc`: select by labels\n",
        "- `iloc`: select by positions\n",
        "\n",
        "`loc` is used to select data by label. The labels of columns are the column names. We need to be careful about row labels. If we do not assign any specific indices, pandas created integer index by default. Thus, the row labels are integers starting from 0 and going up. The row positions that are used with iloc are also integers starting from 0.\n",
        "\n"
      ]
    },
    {
      "cell_type": "markdown",
      "metadata": {
        "id": "KVGvVBB3IPA4",
        "colab_type": "text"
      },
      "source": [
        "###  `iloc`"
      ]
    },
    {
      "cell_type": "code",
      "metadata": {
        "id": "VXCWF7fCGuNp",
        "colab_type": "code",
        "colab": {
          "base_uri": "https://localhost:8080/",
          "height": 106
        },
        "outputId": "7069ac0b-f39e-45d8-99b2-26ec6552d0c3"
      },
      "source": [
        "# Selecting first 3 rows (axis 0) and first 2 columns (axis 1) with iloc:\n",
        "df.iloc[:2,:3]"
      ],
      "execution_count": null,
      "outputs": [
        {
          "output_type": "execute_result",
          "data": {
            "text/html": [
              "<div>\n",
              "<style scoped>\n",
              "    .dataframe tbody tr th:only-of-type {\n",
              "        vertical-align: middle;\n",
              "    }\n",
              "\n",
              "    .dataframe tbody tr th {\n",
              "        vertical-align: top;\n",
              "    }\n",
              "\n",
              "    .dataframe thead th {\n",
              "        text-align: right;\n",
              "    }\n",
              "</style>\n",
              "<table border=\"1\" class=\"dataframe\">\n",
              "  <thead>\n",
              "    <tr style=\"text-align: right;\">\n",
              "      <th></th>\n",
              "      <th>group</th>\n",
              "      <th>year</th>\n",
              "      <th>new_col</th>\n",
              "    </tr>\n",
              "  </thead>\n",
              "  <tbody>\n",
              "    <tr>\n",
              "      <th>0</th>\n",
              "      <td>A</td>\n",
              "      <td>2010</td>\n",
              "      <td>-0.364396</td>\n",
              "    </tr>\n",
              "    <tr>\n",
              "      <th>1</th>\n",
              "      <td>A</td>\n",
              "      <td>2011</td>\n",
              "      <td>-0.984679</td>\n",
              "    </tr>\n",
              "  </tbody>\n",
              "</table>\n",
              "</div>"
            ],
            "text/plain": [
              "  group  year   new_col\n",
              "0     A  2010 -0.364396\n",
              "1     A  2011 -0.984679"
            ]
          },
          "metadata": {
            "tags": []
          },
          "execution_count": 28
        }
      ]
    },
    {
      "cell_type": "code",
      "metadata": {
        "id": "r2EDRSX5HXgd",
        "colab_type": "code",
        "colab": {
          "base_uri": "https://localhost:8080/",
          "height": 106
        },
        "outputId": "1e591e1f-22b8-42ba-cff2-5a1d78dc6d20"
      },
      "source": [
        "# Selecting first 3 rows (axis 0) and all the columns columns (axis 1) with iloc:\n",
        "df.iloc[:2,:]"
      ],
      "execution_count": null,
      "outputs": [
        {
          "output_type": "execute_result",
          "data": {
            "text/html": [
              "<div>\n",
              "<style scoped>\n",
              "    .dataframe tbody tr th:only-of-type {\n",
              "        vertical-align: middle;\n",
              "    }\n",
              "\n",
              "    .dataframe tbody tr th {\n",
              "        vertical-align: top;\n",
              "    }\n",
              "\n",
              "    .dataframe thead th {\n",
              "        text-align: right;\n",
              "    }\n",
              "</style>\n",
              "<table border=\"1\" class=\"dataframe\">\n",
              "  <thead>\n",
              "    <tr style=\"text-align: right;\">\n",
              "      <th></th>\n",
              "      <th>group</th>\n",
              "      <th>year</th>\n",
              "      <th>new_col</th>\n",
              "      <th>value_1</th>\n",
              "      <th>value_2</th>\n",
              "      <th>cumsum_2</th>\n",
              "    </tr>\n",
              "  </thead>\n",
              "  <tbody>\n",
              "    <tr>\n",
              "      <th>0</th>\n",
              "      <td>A</td>\n",
              "      <td>2010</td>\n",
              "      <td>-0.364396</td>\n",
              "      <td>9</td>\n",
              "      <td>5</td>\n",
              "      <td>5</td>\n",
              "    </tr>\n",
              "    <tr>\n",
              "      <th>1</th>\n",
              "      <td>A</td>\n",
              "      <td>2011</td>\n",
              "      <td>-0.984679</td>\n",
              "      <td>4</td>\n",
              "      <td>5</td>\n",
              "      <td>10</td>\n",
              "    </tr>\n",
              "  </tbody>\n",
              "</table>\n",
              "</div>"
            ],
            "text/plain": [
              "  group  year   new_col  value_1  value_2  cumsum_2\n",
              "0     A  2010 -0.364396        9        5         5\n",
              "1     A  2011 -0.984679        4        5        10"
            ]
          },
          "metadata": {
            "tags": []
          },
          "execution_count": 26
        }
      ]
    },
    {
      "cell_type": "markdown",
      "metadata": {
        "id": "C00ai-4zISYQ",
        "colab_type": "text"
      },
      "source": [
        "### `loc` "
      ]
    },
    {
      "cell_type": "code",
      "metadata": {
        "id": "MTck5VbkICCK",
        "colab_type": "code",
        "colab": {
          "base_uri": "https://localhost:8080/",
          "height": 136
        },
        "outputId": "c6a080ea-dcd2-4e72-b8d2-d1029adba082"
      },
      "source": [
        "# Selecting first 3 rows and first 2 columns with loc.\n",
        "df.loc[:2, ['group', 'year']]"
      ],
      "execution_count": null,
      "outputs": [
        {
          "output_type": "execute_result",
          "data": {
            "text/html": [
              "<div>\n",
              "<style scoped>\n",
              "    .dataframe tbody tr th:only-of-type {\n",
              "        vertical-align: middle;\n",
              "    }\n",
              "\n",
              "    .dataframe tbody tr th {\n",
              "        vertical-align: top;\n",
              "    }\n",
              "\n",
              "    .dataframe thead th {\n",
              "        text-align: right;\n",
              "    }\n",
              "</style>\n",
              "<table border=\"1\" class=\"dataframe\">\n",
              "  <thead>\n",
              "    <tr style=\"text-align: right;\">\n",
              "      <th></th>\n",
              "      <th>group</th>\n",
              "      <th>year</th>\n",
              "    </tr>\n",
              "  </thead>\n",
              "  <tbody>\n",
              "    <tr>\n",
              "      <th>0</th>\n",
              "      <td>A</td>\n",
              "      <td>2010</td>\n",
              "    </tr>\n",
              "    <tr>\n",
              "      <th>1</th>\n",
              "      <td>A</td>\n",
              "      <td>2011</td>\n",
              "    </tr>\n",
              "    <tr>\n",
              "      <th>2</th>\n",
              "      <td>B</td>\n",
              "      <td>2012</td>\n",
              "    </tr>\n",
              "  </tbody>\n",
              "</table>\n",
              "</div>"
            ],
            "text/plain": [
              "  group  year\n",
              "0     A  2010\n",
              "1     A  2011\n",
              "2     B  2012"
            ]
          },
          "metadata": {
            "tags": []
          },
          "execution_count": 37
        }
      ]
    },
    {
      "cell_type": "markdown",
      "metadata": {
        "id": "Cci5FmGKKHbQ",
        "colab_type": "text"
      },
      "source": [
        "NOTE:  Upper boundaries of indices are included when `loc` is used whereas they are excluded with `iloc`."
      ]
    },
    {
      "cell_type": "code",
      "metadata": {
        "id": "jZ1Jhg69I0AU",
        "colab_type": "code",
        "colab": {
          "base_uri": "https://localhost:8080/",
          "height": 136
        },
        "outputId": "971f5624-3290-4749-a5ec-8062e1f179fb"
      },
      "source": [
        "# Selecting rows [1, 3, 5] and value_1\n",
        "df.loc[[1,3,5],['value_1']]"
      ],
      "execution_count": null,
      "outputs": [
        {
          "output_type": "execute_result",
          "data": {
            "text/html": [
              "<div>\n",
              "<style scoped>\n",
              "    .dataframe tbody tr th:only-of-type {\n",
              "        vertical-align: middle;\n",
              "    }\n",
              "\n",
              "    .dataframe tbody tr th {\n",
              "        vertical-align: top;\n",
              "    }\n",
              "\n",
              "    .dataframe thead th {\n",
              "        text-align: right;\n",
              "    }\n",
              "</style>\n",
              "<table border=\"1\" class=\"dataframe\">\n",
              "  <thead>\n",
              "    <tr style=\"text-align: right;\">\n",
              "      <th></th>\n",
              "      <th>value_1</th>\n",
              "    </tr>\n",
              "  </thead>\n",
              "  <tbody>\n",
              "    <tr>\n",
              "      <th>1</th>\n",
              "      <td>4</td>\n",
              "    </tr>\n",
              "    <tr>\n",
              "      <th>3</th>\n",
              "      <td>3</td>\n",
              "    </tr>\n",
              "    <tr>\n",
              "      <th>5</th>\n",
              "      <td>2</td>\n",
              "    </tr>\n",
              "  </tbody>\n",
              "</table>\n",
              "</div>"
            ],
            "text/plain": [
              "   value_1\n",
              "1        4\n",
              "3        3\n",
              "5        2"
            ]
          },
          "metadata": {
            "tags": []
          },
          "execution_count": 40
        }
      ]
    },
    {
      "cell_type": "markdown",
      "metadata": {
        "id": "JjCDOy2mK-QU",
        "colab_type": "text"
      },
      "source": [
        "## Percentage of change\n",
        "`pct_change` \n",
        "\n",
        "This function is used to calculate the percent change through the values in a series. Consider we have a series that contains [2,3,6]. If we apply pct_change to this series, the returned series will be [NaN, 0.5, 1.0]. There is 50% increase from the first element to the second and 100% from the second to the third one. **Pct_change function is useful in comparing the percentage of change in a time series of elements.**"
      ]
    },
    {
      "cell_type": "code",
      "metadata": {
        "id": "jUsrlNj0NpOG",
        "colab_type": "code",
        "colab": {
          "base_uri": "https://localhost:8080/",
          "height": 202
        },
        "outputId": "63bf2441-950b-4385-cad0-67e298031066"
      },
      "source": [
        "df.value_1.pct_change()"
      ],
      "execution_count": null,
      "outputs": [
        {
          "output_type": "execute_result",
          "data": {
            "text/plain": [
              "0         NaN\n",
              "1    0.000000\n",
              "2   -0.333333\n",
              "3    0.500000\n",
              "4    1.000000\n",
              "5   -0.833333\n",
              "6    0.000000\n",
              "7    1.000000\n",
              "8    2.500000\n",
              "9    0.000000\n",
              "Name: value_1, dtype: float64"
            ]
          },
          "metadata": {
            "tags": []
          },
          "execution_count": 52
        }
      ]
    },
    {
      "cell_type": "markdown",
      "metadata": {
        "id": "fL3sW44nNgqi",
        "colab_type": "text"
      },
      "source": [
        "### `pct_change - another example"
      ]
    },
    {
      "cell_type": "code",
      "metadata": {
        "id": "Aw3BVqbiKpG8",
        "colab_type": "code",
        "colab": {}
      },
      "source": [
        "# Creating the time-series index \n",
        "ind = pd.date_range('01/01/2000', periods = 6, freq ='W') "
      ],
      "execution_count": null,
      "outputs": []
    },
    {
      "cell_type": "code",
      "metadata": {
        "id": "Zku8tJVHMn7V",
        "colab_type": "code",
        "colab": {}
      },
      "source": [
        "# Creating the dataframe  \n",
        "df1 = pd.DataFrame({\"A\":[14, 4, 5, 4, 1, 55], \n",
        "                   \"B\":[5, 2, 54, 3, 2, 32],  \n",
        "                   \"C\":[20, 20, 7, 21, 8, 5], \n",
        "                   \"D\":[14, 3, 6, 2, 6, 4]}, index = ind) "
      ],
      "execution_count": null,
      "outputs": []
    },
    {
      "cell_type": "code",
      "metadata": {
        "id": "ixyHJVWbMtQZ",
        "colab_type": "code",
        "colab": {
          "base_uri": "https://localhost:8080/",
          "height": 225
        },
        "outputId": "b440e649-6a53-4692-e9fc-0afa9dbf4203"
      },
      "source": [
        "df1"
      ],
      "execution_count": null,
      "outputs": [
        {
          "output_type": "execute_result",
          "data": {
            "text/html": [
              "<div>\n",
              "<style scoped>\n",
              "    .dataframe tbody tr th:only-of-type {\n",
              "        vertical-align: middle;\n",
              "    }\n",
              "\n",
              "    .dataframe tbody tr th {\n",
              "        vertical-align: top;\n",
              "    }\n",
              "\n",
              "    .dataframe thead th {\n",
              "        text-align: right;\n",
              "    }\n",
              "</style>\n",
              "<table border=\"1\" class=\"dataframe\">\n",
              "  <thead>\n",
              "    <tr style=\"text-align: right;\">\n",
              "      <th></th>\n",
              "      <th>A</th>\n",
              "      <th>B</th>\n",
              "      <th>C</th>\n",
              "      <th>D</th>\n",
              "    </tr>\n",
              "  </thead>\n",
              "  <tbody>\n",
              "    <tr>\n",
              "      <th>2000-01-02</th>\n",
              "      <td>14</td>\n",
              "      <td>5</td>\n",
              "      <td>20</td>\n",
              "      <td>14</td>\n",
              "    </tr>\n",
              "    <tr>\n",
              "      <th>2000-01-09</th>\n",
              "      <td>4</td>\n",
              "      <td>2</td>\n",
              "      <td>20</td>\n",
              "      <td>3</td>\n",
              "    </tr>\n",
              "    <tr>\n",
              "      <th>2000-01-16</th>\n",
              "      <td>5</td>\n",
              "      <td>54</td>\n",
              "      <td>7</td>\n",
              "      <td>6</td>\n",
              "    </tr>\n",
              "    <tr>\n",
              "      <th>2000-01-23</th>\n",
              "      <td>4</td>\n",
              "      <td>3</td>\n",
              "      <td>21</td>\n",
              "      <td>2</td>\n",
              "    </tr>\n",
              "    <tr>\n",
              "      <th>2000-01-30</th>\n",
              "      <td>1</td>\n",
              "      <td>2</td>\n",
              "      <td>8</td>\n",
              "      <td>6</td>\n",
              "    </tr>\n",
              "    <tr>\n",
              "      <th>2000-02-06</th>\n",
              "      <td>55</td>\n",
              "      <td>32</td>\n",
              "      <td>5</td>\n",
              "      <td>4</td>\n",
              "    </tr>\n",
              "  </tbody>\n",
              "</table>\n",
              "</div>"
            ],
            "text/plain": [
              "             A   B   C   D\n",
              "2000-01-02  14   5  20  14\n",
              "2000-01-09   4   2  20   3\n",
              "2000-01-16   5  54   7   6\n",
              "2000-01-23   4   3  21   2\n",
              "2000-01-30   1   2   8   6\n",
              "2000-02-06  55  32   5   4"
            ]
          },
          "metadata": {
            "tags": []
          },
          "execution_count": 45
        }
      ]
    },
    {
      "cell_type": "code",
      "metadata": {
        "id": "73TZ7x-mM39f",
        "colab_type": "code",
        "colab": {
          "base_uri": "https://localhost:8080/",
          "height": 225
        },
        "outputId": "e1df95fc-de94-4893-802b-8bd4d6d68586"
      },
      "source": [
        "# find the percentage change with the previous row \n",
        "df.pct_change() "
      ],
      "execution_count": null,
      "outputs": [
        {
          "output_type": "execute_result",
          "data": {
            "text/html": [
              "<div>\n",
              "<style scoped>\n",
              "    .dataframe tbody tr th:only-of-type {\n",
              "        vertical-align: middle;\n",
              "    }\n",
              "\n",
              "    .dataframe tbody tr th {\n",
              "        vertical-align: top;\n",
              "    }\n",
              "\n",
              "    .dataframe thead th {\n",
              "        text-align: right;\n",
              "    }\n",
              "</style>\n",
              "<table border=\"1\" class=\"dataframe\">\n",
              "  <thead>\n",
              "    <tr style=\"text-align: right;\">\n",
              "      <th></th>\n",
              "      <th>A</th>\n",
              "      <th>B</th>\n",
              "      <th>C</th>\n",
              "      <th>D</th>\n",
              "    </tr>\n",
              "  </thead>\n",
              "  <tbody>\n",
              "    <tr>\n",
              "      <th>2000-01-02</th>\n",
              "      <td>NaN</td>\n",
              "      <td>NaN</td>\n",
              "      <td>NaN</td>\n",
              "      <td>NaN</td>\n",
              "    </tr>\n",
              "    <tr>\n",
              "      <th>2000-01-09</th>\n",
              "      <td>-0.714286</td>\n",
              "      <td>-0.600000</td>\n",
              "      <td>0.000000</td>\n",
              "      <td>-0.785714</td>\n",
              "    </tr>\n",
              "    <tr>\n",
              "      <th>2000-01-16</th>\n",
              "      <td>0.250000</td>\n",
              "      <td>26.000000</td>\n",
              "      <td>-0.650000</td>\n",
              "      <td>1.000000</td>\n",
              "    </tr>\n",
              "    <tr>\n",
              "      <th>2000-01-23</th>\n",
              "      <td>-0.200000</td>\n",
              "      <td>-0.944444</td>\n",
              "      <td>2.000000</td>\n",
              "      <td>-0.666667</td>\n",
              "    </tr>\n",
              "    <tr>\n",
              "      <th>2000-01-30</th>\n",
              "      <td>-0.750000</td>\n",
              "      <td>-0.333333</td>\n",
              "      <td>-0.619048</td>\n",
              "      <td>2.000000</td>\n",
              "    </tr>\n",
              "    <tr>\n",
              "      <th>2000-02-06</th>\n",
              "      <td>54.000000</td>\n",
              "      <td>15.000000</td>\n",
              "      <td>-0.375000</td>\n",
              "      <td>-0.333333</td>\n",
              "    </tr>\n",
              "  </tbody>\n",
              "</table>\n",
              "</div>"
            ],
            "text/plain": [
              "                    A          B         C         D\n",
              "2000-01-02        NaN        NaN       NaN       NaN\n",
              "2000-01-09  -0.714286  -0.600000  0.000000 -0.785714\n",
              "2000-01-16   0.250000  26.000000 -0.650000  1.000000\n",
              "2000-01-23  -0.200000  -0.944444  2.000000 -0.666667\n",
              "2000-01-30  -0.750000  -0.333333 -0.619048  2.000000\n",
              "2000-02-06  54.000000  15.000000 -0.375000 -0.333333"
            ]
          },
          "metadata": {
            "tags": []
          },
          "execution_count": 46
        }
      ]
    },
    {
      "cell_type": "code",
      "metadata": {
        "id": "4Ptz4YmSNYys",
        "colab_type": "code",
        "colab": {
          "base_uri": "https://localhost:8080/",
          "height": 225
        },
        "outputId": "a7e47013-8d58-4259-9040-979be3ffd9ee"
      },
      "source": [
        "# apply the pct_change() method \n",
        "# we use the forward fill method to \n",
        "# fill the missing values in the dataframe \n",
        "df.pct_change(fill_method ='ffill')"
      ],
      "execution_count": null,
      "outputs": [
        {
          "output_type": "execute_result",
          "data": {
            "text/html": [
              "<div>\n",
              "<style scoped>\n",
              "    .dataframe tbody tr th:only-of-type {\n",
              "        vertical-align: middle;\n",
              "    }\n",
              "\n",
              "    .dataframe tbody tr th {\n",
              "        vertical-align: top;\n",
              "    }\n",
              "\n",
              "    .dataframe thead th {\n",
              "        text-align: right;\n",
              "    }\n",
              "</style>\n",
              "<table border=\"1\" class=\"dataframe\">\n",
              "  <thead>\n",
              "    <tr style=\"text-align: right;\">\n",
              "      <th></th>\n",
              "      <th>A</th>\n",
              "      <th>B</th>\n",
              "      <th>C</th>\n",
              "      <th>D</th>\n",
              "    </tr>\n",
              "  </thead>\n",
              "  <tbody>\n",
              "    <tr>\n",
              "      <th>2000-01-02</th>\n",
              "      <td>NaN</td>\n",
              "      <td>NaN</td>\n",
              "      <td>NaN</td>\n",
              "      <td>NaN</td>\n",
              "    </tr>\n",
              "    <tr>\n",
              "      <th>2000-01-09</th>\n",
              "      <td>-0.714286</td>\n",
              "      <td>-0.600000</td>\n",
              "      <td>0.000000</td>\n",
              "      <td>-0.785714</td>\n",
              "    </tr>\n",
              "    <tr>\n",
              "      <th>2000-01-16</th>\n",
              "      <td>0.250000</td>\n",
              "      <td>26.000000</td>\n",
              "      <td>-0.650000</td>\n",
              "      <td>1.000000</td>\n",
              "    </tr>\n",
              "    <tr>\n",
              "      <th>2000-01-23</th>\n",
              "      <td>-0.200000</td>\n",
              "      <td>-0.944444</td>\n",
              "      <td>2.000000</td>\n",
              "      <td>-0.666667</td>\n",
              "    </tr>\n",
              "    <tr>\n",
              "      <th>2000-01-30</th>\n",
              "      <td>-0.750000</td>\n",
              "      <td>-0.333333</td>\n",
              "      <td>-0.619048</td>\n",
              "      <td>2.000000</td>\n",
              "    </tr>\n",
              "    <tr>\n",
              "      <th>2000-02-06</th>\n",
              "      <td>54.000000</td>\n",
              "      <td>15.000000</td>\n",
              "      <td>-0.375000</td>\n",
              "      <td>-0.333333</td>\n",
              "    </tr>\n",
              "  </tbody>\n",
              "</table>\n",
              "</div>"
            ],
            "text/plain": [
              "                    A          B         C         D\n",
              "2000-01-02        NaN        NaN       NaN       NaN\n",
              "2000-01-09  -0.714286  -0.600000  0.000000 -0.785714\n",
              "2000-01-16   0.250000  26.000000 -0.650000  1.000000\n",
              "2000-01-23  -0.200000  -0.944444  2.000000 -0.666667\n",
              "2000-01-30  -0.750000  -0.333333 -0.619048  2.000000\n",
              "2000-02-06  54.000000  15.000000 -0.375000 -0.333333"
            ]
          },
          "metadata": {
            "tags": []
          },
          "execution_count": 49
        }
      ]
    },
    {
      "cell_type": "markdown",
      "metadata": {
        "id": "5iFR5Q9MOYxQ",
        "colab_type": "text"
      },
      "source": [
        "NOTE:  \n",
        "- `fill_method`:  How to handle NAs before computing percent changes.\n",
        "\n",
        "The first row contains `NaN` values, as there is no previous row from which we can calculate the change. All the `NaN` values in the dataframe has been filled using `ffill` method."
      ]
    },
    {
      "cell_type": "markdown",
      "metadata": {
        "id": "A2kSsuE2Qb90",
        "colab_type": "text"
      },
      "source": [
        "## Rank\n",
        "`rank` The Rank function assigns rank to the values. Assume we have a series s that contains `[1,7,5,3]`. The ranks assigned to these values will be `[1,4,3,2]`."
      ]
    },
    {
      "cell_type": "code",
      "metadata": {
        "id": "E6vSAlmcOQoO",
        "colab_type": "code",
        "colab": {
          "base_uri": "https://localhost:8080/",
          "height": 343
        },
        "outputId": "c83bc739-338a-4df4-d2e3-e6196e01a92f"
      },
      "source": [
        "df['rank_1'] = df['value_1'].rank()\n",
        "df"
      ],
      "execution_count": null,
      "outputs": [
        {
          "output_type": "execute_result",
          "data": {
            "text/html": [
              "<div>\n",
              "<style scoped>\n",
              "    .dataframe tbody tr th:only-of-type {\n",
              "        vertical-align: middle;\n",
              "    }\n",
              "\n",
              "    .dataframe tbody tr th {\n",
              "        vertical-align: top;\n",
              "    }\n",
              "\n",
              "    .dataframe thead th {\n",
              "        text-align: right;\n",
              "    }\n",
              "</style>\n",
              "<table border=\"1\" class=\"dataframe\">\n",
              "  <thead>\n",
              "    <tr style=\"text-align: right;\">\n",
              "      <th></th>\n",
              "      <th>group</th>\n",
              "      <th>year</th>\n",
              "      <th>value_1</th>\n",
              "      <th>value_2</th>\n",
              "      <th>rank_1</th>\n",
              "    </tr>\n",
              "  </thead>\n",
              "  <tbody>\n",
              "    <tr>\n",
              "      <th>0</th>\n",
              "      <td>A</td>\n",
              "      <td>2010</td>\n",
              "      <td>3</td>\n",
              "      <td>3</td>\n",
              "      <td>6.0</td>\n",
              "    </tr>\n",
              "    <tr>\n",
              "      <th>1</th>\n",
              "      <td>A</td>\n",
              "      <td>2011</td>\n",
              "      <td>3</td>\n",
              "      <td>3</td>\n",
              "      <td>6.0</td>\n",
              "    </tr>\n",
              "    <tr>\n",
              "      <th>2</th>\n",
              "      <td>B</td>\n",
              "      <td>2012</td>\n",
              "      <td>2</td>\n",
              "      <td>4</td>\n",
              "      <td>3.5</td>\n",
              "    </tr>\n",
              "    <tr>\n",
              "      <th>3</th>\n",
              "      <td>A</td>\n",
              "      <td>2013</td>\n",
              "      <td>3</td>\n",
              "      <td>8</td>\n",
              "      <td>6.0</td>\n",
              "    </tr>\n",
              "    <tr>\n",
              "      <th>4</th>\n",
              "      <td>B</td>\n",
              "      <td>2014</td>\n",
              "      <td>6</td>\n",
              "      <td>2</td>\n",
              "      <td>8.0</td>\n",
              "    </tr>\n",
              "    <tr>\n",
              "      <th>5</th>\n",
              "      <td>B</td>\n",
              "      <td>2015</td>\n",
              "      <td>1</td>\n",
              "      <td>3</td>\n",
              "      <td>1.5</td>\n",
              "    </tr>\n",
              "    <tr>\n",
              "      <th>6</th>\n",
              "      <td>C</td>\n",
              "      <td>2016</td>\n",
              "      <td>1</td>\n",
              "      <td>9</td>\n",
              "      <td>1.5</td>\n",
              "    </tr>\n",
              "    <tr>\n",
              "      <th>7</th>\n",
              "      <td>A</td>\n",
              "      <td>2017</td>\n",
              "      <td>2</td>\n",
              "      <td>2</td>\n",
              "      <td>3.5</td>\n",
              "    </tr>\n",
              "    <tr>\n",
              "      <th>8</th>\n",
              "      <td>C</td>\n",
              "      <td>2018</td>\n",
              "      <td>7</td>\n",
              "      <td>9</td>\n",
              "      <td>9.5</td>\n",
              "    </tr>\n",
              "    <tr>\n",
              "      <th>9</th>\n",
              "      <td>C</td>\n",
              "      <td>2019</td>\n",
              "      <td>7</td>\n",
              "      <td>4</td>\n",
              "      <td>9.5</td>\n",
              "    </tr>\n",
              "  </tbody>\n",
              "</table>\n",
              "</div>"
            ],
            "text/plain": [
              "  group  year  value_1  value_2  rank_1\n",
              "0     A  2010        3        3     6.0\n",
              "1     A  2011        3        3     6.0\n",
              "2     B  2012        2        4     3.5\n",
              "3     A  2013        3        8     6.0\n",
              "4     B  2014        6        2     8.0\n",
              "5     B  2015        1        3     1.5\n",
              "6     C  2016        1        9     1.5\n",
              "7     A  2017        2        2     3.5\n",
              "8     C  2018        7        9     9.5\n",
              "9     C  2019        7        4     9.5"
            ]
          },
          "metadata": {
            "tags": []
          },
          "execution_count": 53
        }
      ]
    },
    {
      "cell_type": "markdown",
      "metadata": {
        "id": "iGPm6Sa8RdmA",
        "colab_type": "text"
      },
      "source": [
        "## Melt\n",
        "`Pandas.melt()` function **unpivots a DataFrame from wide format to long format**.  In effect, it converts a wide dataframe to a narrow one.\n",
        "\n",
        "One or more columns are **identifier variables**, while all other columns, considered **measured variables**, they are unpivoted to the row axis, leaving just two non-identifier columns, variable and value.\n"
      ]
    },
    {
      "cell_type": "code",
      "metadata": {
        "id": "KfsKRn7gS4CK",
        "colab_type": "code",
        "colab": {
          "base_uri": "https://localhost:8080/",
          "height": 166
        },
        "outputId": "e3fc6f8b-7407-4e9b-9dd7-01fc24fb48d3"
      },
      "source": [
        "df_wide = pd.DataFrame(\n",
        "  {\"student\": [\"Andy\", \"Bernie\", \"Cindy\", \"Deb\"],\n",
        "   \"school\":  [\"Z\", \"Y\", \"Z\", \"Y\"],\n",
        "   \"english\": [10, 100, 1000, 10000],  # eng grades\n",
        "   \"math\":    [20, 200, 2000, 20000],  # math grades\n",
        "   \"physics\": [30, 300, 3000, 30000]   # physics grades\n",
        "  }\n",
        ")\n",
        "df_wide"
      ],
      "execution_count": 5,
      "outputs": [
        {
          "output_type": "execute_result",
          "data": {
            "text/html": [
              "<div>\n",
              "<style scoped>\n",
              "    .dataframe tbody tr th:only-of-type {\n",
              "        vertical-align: middle;\n",
              "    }\n",
              "\n",
              "    .dataframe tbody tr th {\n",
              "        vertical-align: top;\n",
              "    }\n",
              "\n",
              "    .dataframe thead th {\n",
              "        text-align: right;\n",
              "    }\n",
              "</style>\n",
              "<table border=\"1\" class=\"dataframe\">\n",
              "  <thead>\n",
              "    <tr style=\"text-align: right;\">\n",
              "      <th></th>\n",
              "      <th>student</th>\n",
              "      <th>school</th>\n",
              "      <th>english</th>\n",
              "      <th>math</th>\n",
              "      <th>physics</th>\n",
              "    </tr>\n",
              "  </thead>\n",
              "  <tbody>\n",
              "    <tr>\n",
              "      <th>0</th>\n",
              "      <td>Andy</td>\n",
              "      <td>Z</td>\n",
              "      <td>10</td>\n",
              "      <td>20</td>\n",
              "      <td>30</td>\n",
              "    </tr>\n",
              "    <tr>\n",
              "      <th>1</th>\n",
              "      <td>Bernie</td>\n",
              "      <td>Y</td>\n",
              "      <td>100</td>\n",
              "      <td>200</td>\n",
              "      <td>300</td>\n",
              "    </tr>\n",
              "    <tr>\n",
              "      <th>2</th>\n",
              "      <td>Cindy</td>\n",
              "      <td>Z</td>\n",
              "      <td>1000</td>\n",
              "      <td>2000</td>\n",
              "      <td>3000</td>\n",
              "    </tr>\n",
              "    <tr>\n",
              "      <th>3</th>\n",
              "      <td>Deb</td>\n",
              "      <td>Y</td>\n",
              "      <td>10000</td>\n",
              "      <td>20000</td>\n",
              "      <td>30000</td>\n",
              "    </tr>\n",
              "  </tbody>\n",
              "</table>\n",
              "</div>"
            ],
            "text/plain": [
              "  student school  english   math  physics\n",
              "0    Andy      Z       10     20       30\n",
              "1  Bernie      Y      100    200      300\n",
              "2   Cindy      Z     1000   2000     3000\n",
              "3     Deb      Y    10000  20000    30000"
            ]
          },
          "metadata": {
            "tags": []
          },
          "execution_count": 5
        }
      ]
    },
    {
      "cell_type": "markdown",
      "metadata": {
        "id": "4Z71PARgGKWi",
        "colab_type": "text"
      },
      "source": [
        "NOTE: the subjects `english`, `math`, `physics` will be unpivoted with the `melt` function thus narrowing the table above from 5 columns to 4 columns.\n",
        "\n",
        "We will create two variables `var_name` and `value_name`\n",
        "- `var_name` will create a column `class` in the melted dataframe storing the subjects mentioned above.\n",
        "- `value_name` will create a column `grade` to store the grade for each student. see below. \n",
        "\n",
        "See example below."
      ]
    },
    {
      "cell_type": "markdown",
      "metadata": {
        "id": "Gv1nLqLITfC3",
        "colab_type": "text"
      },
      "source": [
        "### Example 1"
      ]
    },
    {
      "cell_type": "code",
      "metadata": {
        "id": "8GvlJc96TVJL",
        "colab_type": "code",
        "colab": {
          "base_uri": "https://localhost:8080/",
          "height": 402
        },
        "outputId": "1e007ae5-ca1c-4ca7-ce84-5705687a746a"
      },
      "source": [
        "df_wide.melt(id_vars=[\"student\", \"school\"],\n",
        "             var_name=\"class\",\n",
        "             value_name=\"grade\")"
      ],
      "execution_count": 6,
      "outputs": [
        {
          "output_type": "execute_result",
          "data": {
            "text/html": [
              "<div>\n",
              "<style scoped>\n",
              "    .dataframe tbody tr th:only-of-type {\n",
              "        vertical-align: middle;\n",
              "    }\n",
              "\n",
              "    .dataframe tbody tr th {\n",
              "        vertical-align: top;\n",
              "    }\n",
              "\n",
              "    .dataframe thead th {\n",
              "        text-align: right;\n",
              "    }\n",
              "</style>\n",
              "<table border=\"1\" class=\"dataframe\">\n",
              "  <thead>\n",
              "    <tr style=\"text-align: right;\">\n",
              "      <th></th>\n",
              "      <th>student</th>\n",
              "      <th>school</th>\n",
              "      <th>class</th>\n",
              "      <th>grade</th>\n",
              "    </tr>\n",
              "  </thead>\n",
              "  <tbody>\n",
              "    <tr>\n",
              "      <th>0</th>\n",
              "      <td>Andy</td>\n",
              "      <td>Z</td>\n",
              "      <td>english</td>\n",
              "      <td>10</td>\n",
              "    </tr>\n",
              "    <tr>\n",
              "      <th>1</th>\n",
              "      <td>Bernie</td>\n",
              "      <td>Y</td>\n",
              "      <td>english</td>\n",
              "      <td>100</td>\n",
              "    </tr>\n",
              "    <tr>\n",
              "      <th>2</th>\n",
              "      <td>Cindy</td>\n",
              "      <td>Z</td>\n",
              "      <td>english</td>\n",
              "      <td>1000</td>\n",
              "    </tr>\n",
              "    <tr>\n",
              "      <th>3</th>\n",
              "      <td>Deb</td>\n",
              "      <td>Y</td>\n",
              "      <td>english</td>\n",
              "      <td>10000</td>\n",
              "    </tr>\n",
              "    <tr>\n",
              "      <th>4</th>\n",
              "      <td>Andy</td>\n",
              "      <td>Z</td>\n",
              "      <td>math</td>\n",
              "      <td>20</td>\n",
              "    </tr>\n",
              "    <tr>\n",
              "      <th>5</th>\n",
              "      <td>Bernie</td>\n",
              "      <td>Y</td>\n",
              "      <td>math</td>\n",
              "      <td>200</td>\n",
              "    </tr>\n",
              "    <tr>\n",
              "      <th>6</th>\n",
              "      <td>Cindy</td>\n",
              "      <td>Z</td>\n",
              "      <td>math</td>\n",
              "      <td>2000</td>\n",
              "    </tr>\n",
              "    <tr>\n",
              "      <th>7</th>\n",
              "      <td>Deb</td>\n",
              "      <td>Y</td>\n",
              "      <td>math</td>\n",
              "      <td>20000</td>\n",
              "    </tr>\n",
              "    <tr>\n",
              "      <th>8</th>\n",
              "      <td>Andy</td>\n",
              "      <td>Z</td>\n",
              "      <td>physics</td>\n",
              "      <td>30</td>\n",
              "    </tr>\n",
              "    <tr>\n",
              "      <th>9</th>\n",
              "      <td>Bernie</td>\n",
              "      <td>Y</td>\n",
              "      <td>physics</td>\n",
              "      <td>300</td>\n",
              "    </tr>\n",
              "    <tr>\n",
              "      <th>10</th>\n",
              "      <td>Cindy</td>\n",
              "      <td>Z</td>\n",
              "      <td>physics</td>\n",
              "      <td>3000</td>\n",
              "    </tr>\n",
              "    <tr>\n",
              "      <th>11</th>\n",
              "      <td>Deb</td>\n",
              "      <td>Y</td>\n",
              "      <td>physics</td>\n",
              "      <td>30000</td>\n",
              "    </tr>\n",
              "  </tbody>\n",
              "</table>\n",
              "</div>"
            ],
            "text/plain": [
              "   student school    class  grade\n",
              "0     Andy      Z  english     10\n",
              "1   Bernie      Y  english    100\n",
              "2    Cindy      Z  english   1000\n",
              "3      Deb      Y  english  10000\n",
              "4     Andy      Z     math     20\n",
              "5   Bernie      Y     math    200\n",
              "6    Cindy      Z     math   2000\n",
              "7      Deb      Y     math  20000\n",
              "8     Andy      Z  physics     30\n",
              "9   Bernie      Y  physics    300\n",
              "10   Cindy      Z  physics   3000\n",
              "11     Deb      Y  physics  30000"
            ]
          },
          "metadata": {
            "tags": []
          },
          "execution_count": 6
        }
      ]
    },
    {
      "cell_type": "markdown",
      "metadata": {
        "id": "tIgC0BneJKwf",
        "colab_type": "text"
      },
      "source": [
        "### Example 2"
      ]
    },
    {
      "cell_type": "code",
      "metadata": {
        "id": "x5dCoyQ6TZ88",
        "colab_type": "code",
        "colab": {
          "base_uri": "https://localhost:8080/",
          "height": 195
        },
        "outputId": "8595fdba-9935-479b-9c9e-652d98a58fc2"
      },
      "source": [
        "df1_wide = pd.DataFrame(\n",
        "  {\"city\": [\"A\", \"B\", \"C\", \"D\", \"E\"],\n",
        "   \"day1\": [22, 10, 25, 18, 52],\n",
        "   \"day2\": [25, 14, 22, 15, 14],  \n",
        "   \"day2\": [28, 13, 26, 17, 15], \n",
        "   \"day3\": [26, 12, 24, 18, 17]\n",
        "  }\n",
        ")\n",
        "df1_wide"
      ],
      "execution_count": 16,
      "outputs": [
        {
          "output_type": "execute_result",
          "data": {
            "text/html": [
              "<div>\n",
              "<style scoped>\n",
              "    .dataframe tbody tr th:only-of-type {\n",
              "        vertical-align: middle;\n",
              "    }\n",
              "\n",
              "    .dataframe tbody tr th {\n",
              "        vertical-align: top;\n",
              "    }\n",
              "\n",
              "    .dataframe thead th {\n",
              "        text-align: right;\n",
              "    }\n",
              "</style>\n",
              "<table border=\"1\" class=\"dataframe\">\n",
              "  <thead>\n",
              "    <tr style=\"text-align: right;\">\n",
              "      <th></th>\n",
              "      <th>city</th>\n",
              "      <th>day1</th>\n",
              "      <th>day2</th>\n",
              "      <th>day3</th>\n",
              "    </tr>\n",
              "  </thead>\n",
              "  <tbody>\n",
              "    <tr>\n",
              "      <th>0</th>\n",
              "      <td>A</td>\n",
              "      <td>22</td>\n",
              "      <td>28</td>\n",
              "      <td>26</td>\n",
              "    </tr>\n",
              "    <tr>\n",
              "      <th>1</th>\n",
              "      <td>B</td>\n",
              "      <td>10</td>\n",
              "      <td>13</td>\n",
              "      <td>12</td>\n",
              "    </tr>\n",
              "    <tr>\n",
              "      <th>2</th>\n",
              "      <td>C</td>\n",
              "      <td>25</td>\n",
              "      <td>26</td>\n",
              "      <td>24</td>\n",
              "    </tr>\n",
              "    <tr>\n",
              "      <th>3</th>\n",
              "      <td>D</td>\n",
              "      <td>18</td>\n",
              "      <td>17</td>\n",
              "      <td>18</td>\n",
              "    </tr>\n",
              "    <tr>\n",
              "      <th>4</th>\n",
              "      <td>E</td>\n",
              "      <td>52</td>\n",
              "      <td>15</td>\n",
              "      <td>17</td>\n",
              "    </tr>\n",
              "  </tbody>\n",
              "</table>\n",
              "</div>"
            ],
            "text/plain": [
              "  city  day1  day2  day3\n",
              "0    A    22    28    26\n",
              "1    B    10    13    12\n",
              "2    C    25    26    24\n",
              "3    D    18    17    18\n",
              "4    E    52    15    17"
            ]
          },
          "metadata": {
            "tags": []
          },
          "execution_count": 16
        }
      ]
    },
    {
      "cell_type": "code",
      "metadata": {
        "id": "ePNlpoeDKzFI",
        "colab_type": "code",
        "colab": {
          "base_uri": "https://localhost:8080/",
          "height": 491
        },
        "outputId": "08786425-9513-4a07-f1c6-809b9acc515f"
      },
      "source": [
        "df1_wide.melt(id_vars=['city'])"
      ],
      "execution_count": 17,
      "outputs": [
        {
          "output_type": "execute_result",
          "data": {
            "text/html": [
              "<div>\n",
              "<style scoped>\n",
              "    .dataframe tbody tr th:only-of-type {\n",
              "        vertical-align: middle;\n",
              "    }\n",
              "\n",
              "    .dataframe tbody tr th {\n",
              "        vertical-align: top;\n",
              "    }\n",
              "\n",
              "    .dataframe thead th {\n",
              "        text-align: right;\n",
              "    }\n",
              "</style>\n",
              "<table border=\"1\" class=\"dataframe\">\n",
              "  <thead>\n",
              "    <tr style=\"text-align: right;\">\n",
              "      <th></th>\n",
              "      <th>city</th>\n",
              "      <th>variable</th>\n",
              "      <th>value</th>\n",
              "    </tr>\n",
              "  </thead>\n",
              "  <tbody>\n",
              "    <tr>\n",
              "      <th>0</th>\n",
              "      <td>A</td>\n",
              "      <td>day1</td>\n",
              "      <td>22</td>\n",
              "    </tr>\n",
              "    <tr>\n",
              "      <th>1</th>\n",
              "      <td>B</td>\n",
              "      <td>day1</td>\n",
              "      <td>10</td>\n",
              "    </tr>\n",
              "    <tr>\n",
              "      <th>2</th>\n",
              "      <td>C</td>\n",
              "      <td>day1</td>\n",
              "      <td>25</td>\n",
              "    </tr>\n",
              "    <tr>\n",
              "      <th>3</th>\n",
              "      <td>D</td>\n",
              "      <td>day1</td>\n",
              "      <td>18</td>\n",
              "    </tr>\n",
              "    <tr>\n",
              "      <th>4</th>\n",
              "      <td>E</td>\n",
              "      <td>day1</td>\n",
              "      <td>52</td>\n",
              "    </tr>\n",
              "    <tr>\n",
              "      <th>5</th>\n",
              "      <td>A</td>\n",
              "      <td>day2</td>\n",
              "      <td>28</td>\n",
              "    </tr>\n",
              "    <tr>\n",
              "      <th>6</th>\n",
              "      <td>B</td>\n",
              "      <td>day2</td>\n",
              "      <td>13</td>\n",
              "    </tr>\n",
              "    <tr>\n",
              "      <th>7</th>\n",
              "      <td>C</td>\n",
              "      <td>day2</td>\n",
              "      <td>26</td>\n",
              "    </tr>\n",
              "    <tr>\n",
              "      <th>8</th>\n",
              "      <td>D</td>\n",
              "      <td>day2</td>\n",
              "      <td>17</td>\n",
              "    </tr>\n",
              "    <tr>\n",
              "      <th>9</th>\n",
              "      <td>E</td>\n",
              "      <td>day2</td>\n",
              "      <td>15</td>\n",
              "    </tr>\n",
              "    <tr>\n",
              "      <th>10</th>\n",
              "      <td>A</td>\n",
              "      <td>day3</td>\n",
              "      <td>26</td>\n",
              "    </tr>\n",
              "    <tr>\n",
              "      <th>11</th>\n",
              "      <td>B</td>\n",
              "      <td>day3</td>\n",
              "      <td>12</td>\n",
              "    </tr>\n",
              "    <tr>\n",
              "      <th>12</th>\n",
              "      <td>C</td>\n",
              "      <td>day3</td>\n",
              "      <td>24</td>\n",
              "    </tr>\n",
              "    <tr>\n",
              "      <th>13</th>\n",
              "      <td>D</td>\n",
              "      <td>day3</td>\n",
              "      <td>18</td>\n",
              "    </tr>\n",
              "    <tr>\n",
              "      <th>14</th>\n",
              "      <td>E</td>\n",
              "      <td>day3</td>\n",
              "      <td>17</td>\n",
              "    </tr>\n",
              "  </tbody>\n",
              "</table>\n",
              "</div>"
            ],
            "text/plain": [
              "   city variable  value\n",
              "0     A     day1     22\n",
              "1     B     day1     10\n",
              "2     C     day1     25\n",
              "3     D     day1     18\n",
              "4     E     day1     52\n",
              "5     A     day2     28\n",
              "6     B     day2     13\n",
              "7     C     day2     26\n",
              "8     D     day2     17\n",
              "9     E     day2     15\n",
              "10    A     day3     26\n",
              "11    B     day3     12\n",
              "12    C     day3     24\n",
              "13    D     day3     18\n",
              "14    E     day3     17"
            ]
          },
          "metadata": {
            "tags": []
          },
          "execution_count": 17
        }
      ]
    },
    {
      "cell_type": "code",
      "metadata": {
        "id": "T_TVhnyvL1fJ",
        "colab_type": "code",
        "colab": {
          "base_uri": "https://localhost:8080/",
          "height": 491
        },
        "outputId": "86c080de-b06b-48c0-ae8e-0471c4a39f48"
      },
      "source": [
        "df1_wide.melt(id_vars=[\"city\", ],\n",
        "             var_name=\"'temperature\",\n",
        "             value_name=\"day1, day2, day3,\")"
      ],
      "execution_count": 18,
      "outputs": [
        {
          "output_type": "execute_result",
          "data": {
            "text/html": [
              "<div>\n",
              "<style scoped>\n",
              "    .dataframe tbody tr th:only-of-type {\n",
              "        vertical-align: middle;\n",
              "    }\n",
              "\n",
              "    .dataframe tbody tr th {\n",
              "        vertical-align: top;\n",
              "    }\n",
              "\n",
              "    .dataframe thead th {\n",
              "        text-align: right;\n",
              "    }\n",
              "</style>\n",
              "<table border=\"1\" class=\"dataframe\">\n",
              "  <thead>\n",
              "    <tr style=\"text-align: right;\">\n",
              "      <th></th>\n",
              "      <th>city</th>\n",
              "      <th>'temperature</th>\n",
              "      <th>day1, day2, day3,</th>\n",
              "    </tr>\n",
              "  </thead>\n",
              "  <tbody>\n",
              "    <tr>\n",
              "      <th>0</th>\n",
              "      <td>A</td>\n",
              "      <td>day1</td>\n",
              "      <td>22</td>\n",
              "    </tr>\n",
              "    <tr>\n",
              "      <th>1</th>\n",
              "      <td>B</td>\n",
              "      <td>day1</td>\n",
              "      <td>10</td>\n",
              "    </tr>\n",
              "    <tr>\n",
              "      <th>2</th>\n",
              "      <td>C</td>\n",
              "      <td>day1</td>\n",
              "      <td>25</td>\n",
              "    </tr>\n",
              "    <tr>\n",
              "      <th>3</th>\n",
              "      <td>D</td>\n",
              "      <td>day1</td>\n",
              "      <td>18</td>\n",
              "    </tr>\n",
              "    <tr>\n",
              "      <th>4</th>\n",
              "      <td>E</td>\n",
              "      <td>day1</td>\n",
              "      <td>52</td>\n",
              "    </tr>\n",
              "    <tr>\n",
              "      <th>5</th>\n",
              "      <td>A</td>\n",
              "      <td>day2</td>\n",
              "      <td>28</td>\n",
              "    </tr>\n",
              "    <tr>\n",
              "      <th>6</th>\n",
              "      <td>B</td>\n",
              "      <td>day2</td>\n",
              "      <td>13</td>\n",
              "    </tr>\n",
              "    <tr>\n",
              "      <th>7</th>\n",
              "      <td>C</td>\n",
              "      <td>day2</td>\n",
              "      <td>26</td>\n",
              "    </tr>\n",
              "    <tr>\n",
              "      <th>8</th>\n",
              "      <td>D</td>\n",
              "      <td>day2</td>\n",
              "      <td>17</td>\n",
              "    </tr>\n",
              "    <tr>\n",
              "      <th>9</th>\n",
              "      <td>E</td>\n",
              "      <td>day2</td>\n",
              "      <td>15</td>\n",
              "    </tr>\n",
              "    <tr>\n",
              "      <th>10</th>\n",
              "      <td>A</td>\n",
              "      <td>day3</td>\n",
              "      <td>26</td>\n",
              "    </tr>\n",
              "    <tr>\n",
              "      <th>11</th>\n",
              "      <td>B</td>\n",
              "      <td>day3</td>\n",
              "      <td>12</td>\n",
              "    </tr>\n",
              "    <tr>\n",
              "      <th>12</th>\n",
              "      <td>C</td>\n",
              "      <td>day3</td>\n",
              "      <td>24</td>\n",
              "    </tr>\n",
              "    <tr>\n",
              "      <th>13</th>\n",
              "      <td>D</td>\n",
              "      <td>day3</td>\n",
              "      <td>18</td>\n",
              "    </tr>\n",
              "    <tr>\n",
              "      <th>14</th>\n",
              "      <td>E</td>\n",
              "      <td>day3</td>\n",
              "      <td>17</td>\n",
              "    </tr>\n",
              "  </tbody>\n",
              "</table>\n",
              "</div>"
            ],
            "text/plain": [
              "   city 'temperature  day1, day2, day3,\n",
              "0     A         day1                 22\n",
              "1     B         day1                 10\n",
              "2     C         day1                 25\n",
              "3     D         day1                 18\n",
              "4     E         day1                 52\n",
              "5     A         day2                 28\n",
              "6     B         day2                 13\n",
              "7     C         day2                 26\n",
              "8     D         day2                 17\n",
              "9     E         day2                 15\n",
              "10    A         day3                 26\n",
              "11    B         day3                 12\n",
              "12    C         day3                 24\n",
              "13    D         day3                 18\n",
              "14    E         day3                 17"
            ]
          },
          "metadata": {
            "tags": []
          },
          "execution_count": 18
        }
      ]
    },
    {
      "cell_type": "code",
      "metadata": {
        "id": "8lzpb9ncMT7q",
        "colab_type": "code",
        "colab": {}
      },
      "source": [
        ""
      ],
      "execution_count": null,
      "outputs": []
    },
    {
      "cell_type": "markdown",
      "metadata": {
        "id": "bqhzhGSyMi62",
        "colab_type": "text"
      },
      "source": [
        "## Explode\n",
        "Assume your data set includes multiple entries of a feature on a single observation (row) but you want to analyze them on separate rows."
      ]
    },
    {
      "cell_type": "code",
      "metadata": {
        "id": "s64XE5q9NVEu",
        "colab_type": "code",
        "colab": {
          "base_uri": "https://localhost:8080/",
          "height": 136
        },
        "outputId": "042d5be5-b469-4c12-b5d8-ac4e35e51fb0"
      },
      "source": [
        "df = pd.DataFrame(\n",
        "  {\"ID\": [\"A\", \"B\", \"C\"],\n",
        "   \"Measurement\": [4, 6, [2, 3, 8]],\n",
        "   \"day\": [1, 1, 1]\n",
        "  }\n",
        ")\n",
        "df"
      ],
      "execution_count": 21,
      "outputs": [
        {
          "output_type": "execute_result",
          "data": {
            "text/html": [
              "<div>\n",
              "<style scoped>\n",
              "    .dataframe tbody tr th:only-of-type {\n",
              "        vertical-align: middle;\n",
              "    }\n",
              "\n",
              "    .dataframe tbody tr th {\n",
              "        vertical-align: top;\n",
              "    }\n",
              "\n",
              "    .dataframe thead th {\n",
              "        text-align: right;\n",
              "    }\n",
              "</style>\n",
              "<table border=\"1\" class=\"dataframe\">\n",
              "  <thead>\n",
              "    <tr style=\"text-align: right;\">\n",
              "      <th></th>\n",
              "      <th>ID</th>\n",
              "      <th>Measurement</th>\n",
              "      <th>day</th>\n",
              "    </tr>\n",
              "  </thead>\n",
              "  <tbody>\n",
              "    <tr>\n",
              "      <th>0</th>\n",
              "      <td>A</td>\n",
              "      <td>4</td>\n",
              "      <td>1</td>\n",
              "    </tr>\n",
              "    <tr>\n",
              "      <th>1</th>\n",
              "      <td>B</td>\n",
              "      <td>6</td>\n",
              "      <td>1</td>\n",
              "    </tr>\n",
              "    <tr>\n",
              "      <th>2</th>\n",
              "      <td>C</td>\n",
              "      <td>[2, 3, 8]</td>\n",
              "      <td>1</td>\n",
              "    </tr>\n",
              "  </tbody>\n",
              "</table>\n",
              "</div>"
            ],
            "text/plain": [
              "  ID Measurement  day\n",
              "0  A           4    1\n",
              "1  B           6    1\n",
              "2  C   [2, 3, 8]    1"
            ]
          },
          "metadata": {
            "tags": []
          },
          "execution_count": 21
        }
      ]
    },
    {
      "cell_type": "markdown",
      "metadata": {
        "id": "eP0DDO6YOrsN",
        "colab_type": "text"
      },
      "source": [
        "We want to see the measurements of `C` on day `1` on separate rows which easily be done using explode."
      ]
    },
    {
      "cell_type": "code",
      "metadata": {
        "id": "AuZs5Pp2N4w4",
        "colab_type": "code",
        "colab": {
          "base_uri": "https://localhost:8080/",
          "height": 195
        },
        "outputId": "192aa859-37c4-4c36-899a-37cb084f26b0"
      },
      "source": [
        "df.explode('Measurement').reset_index(drop=True)"
      ],
      "execution_count": 22,
      "outputs": [
        {
          "output_type": "execute_result",
          "data": {
            "text/html": [
              "<div>\n",
              "<style scoped>\n",
              "    .dataframe tbody tr th:only-of-type {\n",
              "        vertical-align: middle;\n",
              "    }\n",
              "\n",
              "    .dataframe tbody tr th {\n",
              "        vertical-align: top;\n",
              "    }\n",
              "\n",
              "    .dataframe thead th {\n",
              "        text-align: right;\n",
              "    }\n",
              "</style>\n",
              "<table border=\"1\" class=\"dataframe\">\n",
              "  <thead>\n",
              "    <tr style=\"text-align: right;\">\n",
              "      <th></th>\n",
              "      <th>ID</th>\n",
              "      <th>Measurement</th>\n",
              "      <th>day</th>\n",
              "    </tr>\n",
              "  </thead>\n",
              "  <tbody>\n",
              "    <tr>\n",
              "      <th>0</th>\n",
              "      <td>A</td>\n",
              "      <td>4</td>\n",
              "      <td>1</td>\n",
              "    </tr>\n",
              "    <tr>\n",
              "      <th>1</th>\n",
              "      <td>B</td>\n",
              "      <td>6</td>\n",
              "      <td>1</td>\n",
              "    </tr>\n",
              "    <tr>\n",
              "      <th>2</th>\n",
              "      <td>C</td>\n",
              "      <td>2</td>\n",
              "      <td>1</td>\n",
              "    </tr>\n",
              "    <tr>\n",
              "      <th>3</th>\n",
              "      <td>C</td>\n",
              "      <td>3</td>\n",
              "      <td>1</td>\n",
              "    </tr>\n",
              "    <tr>\n",
              "      <th>4</th>\n",
              "      <td>C</td>\n",
              "      <td>8</td>\n",
              "      <td>1</td>\n",
              "    </tr>\n",
              "  </tbody>\n",
              "</table>\n",
              "</div>"
            ],
            "text/plain": [
              "  ID Measurement  day\n",
              "0  A           4    1\n",
              "1  B           6    1\n",
              "2  C           2    1\n",
              "3  C           3    1\n",
              "4  C           8    1"
            ]
          },
          "metadata": {
            "tags": []
          },
          "execution_count": 22
        }
      ]
    },
    {
      "cell_type": "markdown",
      "metadata": {
        "id": "YqmEAT_cOQSP",
        "colab_type": "text"
      },
      "source": [
        "NOTE: the ID value `C` has its measurement exploded from the array `[2,3,8]`"
      ]
    },
    {
      "cell_type": "markdown",
      "metadata": {
        "id": "T_r5lkbfPJP8",
        "colab_type": "text"
      },
      "source": [
        "## Number of unique values\n",
        "`Nunique` **counts the number of unique entries over columns or rows**. It is very useful in categorical features especially in cases where we do not know the number of categories beforehand. Let’s take a look at our initial dataframe:\n"
      ]
    },
    {
      "cell_type": "code",
      "metadata": {
        "id": "BJpeBha0ONWC",
        "colab_type": "code",
        "colab": {
          "base_uri": "https://localhost:8080/",
          "height": 343
        },
        "outputId": "2841f07b-28e7-487a-e216-af5570d3e305"
      },
      "source": [
        "df1 = pd.DataFrame(\n",
        "  {\"group\":     [\"A\", \"A\", \"B\", \"A\", \"B\", \"B\",\"C\", \"A\", \"C\", \"C\"],\n",
        "   \"year\":      [\"2010\", \"2011\", \"2012\", \"2013\", \"2014\", \"2015\", \"2016\", \"2017\", \"2018\", \"2019\"],\n",
        "   \"new_col\":   [0.33281, 0.122312, 0.551692, -1.515015, 0.078729, -0.375737, -1.159010, -0.161005, 0.275412, 0.113718],\n",
        "   \"value_1\":   [2, 3, 5, 9, 6, 7, 4, 8, 4, 0],\n",
        "   \"value_2\":   [3, 3, 1, 4, 1, 9, 2, 5, 6, 9],\n",
        "   \"cumsum_2\":  [3, 6, 1, 10, 2, 11, 2, 15, 8, 17],\n",
        "   \"rank_1\":    [2.0, 3.0, 6.0, 10.0, 7.0, 8.0, 4.5, 9.0, 4.5, 1.0]\n",
        "  }\n",
        ")\n",
        "df1"
      ],
      "execution_count": 24,
      "outputs": [
        {
          "output_type": "execute_result",
          "data": {
            "text/html": [
              "<div>\n",
              "<style scoped>\n",
              "    .dataframe tbody tr th:only-of-type {\n",
              "        vertical-align: middle;\n",
              "    }\n",
              "\n",
              "    .dataframe tbody tr th {\n",
              "        vertical-align: top;\n",
              "    }\n",
              "\n",
              "    .dataframe thead th {\n",
              "        text-align: right;\n",
              "    }\n",
              "</style>\n",
              "<table border=\"1\" class=\"dataframe\">\n",
              "  <thead>\n",
              "    <tr style=\"text-align: right;\">\n",
              "      <th></th>\n",
              "      <th>group</th>\n",
              "      <th>year</th>\n",
              "      <th>new_col</th>\n",
              "      <th>value_1</th>\n",
              "      <th>value_2</th>\n",
              "      <th>cumsum_2</th>\n",
              "      <th>rank_1</th>\n",
              "    </tr>\n",
              "  </thead>\n",
              "  <tbody>\n",
              "    <tr>\n",
              "      <th>0</th>\n",
              "      <td>A</td>\n",
              "      <td>2010</td>\n",
              "      <td>0.332810</td>\n",
              "      <td>2</td>\n",
              "      <td>3</td>\n",
              "      <td>3</td>\n",
              "      <td>2.0</td>\n",
              "    </tr>\n",
              "    <tr>\n",
              "      <th>1</th>\n",
              "      <td>A</td>\n",
              "      <td>2011</td>\n",
              "      <td>0.122312</td>\n",
              "      <td>3</td>\n",
              "      <td>3</td>\n",
              "      <td>6</td>\n",
              "      <td>3.0</td>\n",
              "    </tr>\n",
              "    <tr>\n",
              "      <th>2</th>\n",
              "      <td>B</td>\n",
              "      <td>2012</td>\n",
              "      <td>0.551692</td>\n",
              "      <td>5</td>\n",
              "      <td>1</td>\n",
              "      <td>1</td>\n",
              "      <td>6.0</td>\n",
              "    </tr>\n",
              "    <tr>\n",
              "      <th>3</th>\n",
              "      <td>A</td>\n",
              "      <td>2013</td>\n",
              "      <td>-1.515015</td>\n",
              "      <td>9</td>\n",
              "      <td>4</td>\n",
              "      <td>10</td>\n",
              "      <td>10.0</td>\n",
              "    </tr>\n",
              "    <tr>\n",
              "      <th>4</th>\n",
              "      <td>B</td>\n",
              "      <td>2014</td>\n",
              "      <td>0.078729</td>\n",
              "      <td>6</td>\n",
              "      <td>1</td>\n",
              "      <td>2</td>\n",
              "      <td>7.0</td>\n",
              "    </tr>\n",
              "    <tr>\n",
              "      <th>5</th>\n",
              "      <td>B</td>\n",
              "      <td>2015</td>\n",
              "      <td>-0.375737</td>\n",
              "      <td>7</td>\n",
              "      <td>9</td>\n",
              "      <td>11</td>\n",
              "      <td>8.0</td>\n",
              "    </tr>\n",
              "    <tr>\n",
              "      <th>6</th>\n",
              "      <td>C</td>\n",
              "      <td>2016</td>\n",
              "      <td>-1.159010</td>\n",
              "      <td>4</td>\n",
              "      <td>2</td>\n",
              "      <td>2</td>\n",
              "      <td>4.5</td>\n",
              "    </tr>\n",
              "    <tr>\n",
              "      <th>7</th>\n",
              "      <td>A</td>\n",
              "      <td>2017</td>\n",
              "      <td>-0.161005</td>\n",
              "      <td>8</td>\n",
              "      <td>5</td>\n",
              "      <td>15</td>\n",
              "      <td>9.0</td>\n",
              "    </tr>\n",
              "    <tr>\n",
              "      <th>8</th>\n",
              "      <td>C</td>\n",
              "      <td>2018</td>\n",
              "      <td>0.275412</td>\n",
              "      <td>4</td>\n",
              "      <td>6</td>\n",
              "      <td>8</td>\n",
              "      <td>4.5</td>\n",
              "    </tr>\n",
              "    <tr>\n",
              "      <th>9</th>\n",
              "      <td>C</td>\n",
              "      <td>2019</td>\n",
              "      <td>0.113718</td>\n",
              "      <td>0</td>\n",
              "      <td>9</td>\n",
              "      <td>17</td>\n",
              "      <td>1.0</td>\n",
              "    </tr>\n",
              "  </tbody>\n",
              "</table>\n",
              "</div>"
            ],
            "text/plain": [
              "  group  year   new_col  value_1  value_2  cumsum_2  rank_1\n",
              "0     A  2010  0.332810        2        3         3     2.0\n",
              "1     A  2011  0.122312        3        3         6     3.0\n",
              "2     B  2012  0.551692        5        1         1     6.0\n",
              "3     A  2013 -1.515015        9        4        10    10.0\n",
              "4     B  2014  0.078729        6        1         2     7.0\n",
              "5     B  2015 -0.375737        7        9        11     8.0\n",
              "6     C  2016 -1.159010        4        2         2     4.5\n",
              "7     A  2017 -0.161005        8        5        15     9.0\n",
              "8     C  2018  0.275412        4        6         8     4.5\n",
              "9     C  2019  0.113718        0        9        17     1.0"
            ]
          },
          "metadata": {
            "tags": []
          },
          "execution_count": 24
        }
      ]
    },
    {
      "cell_type": "code",
      "metadata": {
        "id": "EWTRJ61ZOuA4",
        "colab_type": "code",
        "colab": {
          "base_uri": "https://localhost:8080/",
          "height": 34
        },
        "outputId": "64d3e952-1695-4d41-f502-5cc61b189826"
      },
      "source": [
        "df1.year.nunique() \n"
      ],
      "execution_count": 31,
      "outputs": [
        {
          "output_type": "execute_result",
          "data": {
            "text/plain": [
              "10"
            ]
          },
          "metadata": {
            "tags": []
          },
          "execution_count": 31
        }
      ]
    },
    {
      "cell_type": "code",
      "metadata": {
        "id": "NOkzzBSZT5k7",
        "colab_type": "code",
        "colab": {
          "base_uri": "https://localhost:8080/",
          "height": 34
        },
        "outputId": "ca926520-2a5e-4658-c7ff-231ef322b040"
      },
      "source": [
        "df1.group.nunique()"
      ],
      "execution_count": 30,
      "outputs": [
        {
          "output_type": "execute_result",
          "data": {
            "text/plain": [
              "3"
            ]
          },
          "metadata": {
            "tags": []
          },
          "execution_count": 30
        }
      ]
    },
    {
      "cell_type": "markdown",
      "metadata": {
        "id": "CaSCqStXULFW",
        "colab_type": "text"
      },
      "source": [
        "We can directly the `nunique` function to the dataframe and see the number of unique values in each column:"
      ]
    },
    {
      "cell_type": "code",
      "metadata": {
        "id": "5HzqS1c5UFd-",
        "colab_type": "code",
        "colab": {
          "base_uri": "https://localhost:8080/",
          "height": 151
        },
        "outputId": "a0b06518-be3f-44fe-f86a-b595fc5c175f"
      },
      "source": [
        "df1.nunique()"
      ],
      "execution_count": 32,
      "outputs": [
        {
          "output_type": "execute_result",
          "data": {
            "text/plain": [
              "group        3\n",
              "year        10\n",
              "new_col     10\n",
              "value_1      9\n",
              "value_2      7\n",
              "cumsum_2     9\n",
              "rank_1       9\n",
              "dtype: int64"
            ]
          },
          "metadata": {
            "tags": []
          },
          "execution_count": 32
        }
      ]
    },
    {
      "cell_type": "markdown",
      "metadata": {
        "id": "GplxuZKtUdz7",
        "colab_type": "text"
      },
      "source": [
        "If axis parameter is set to 1, the `nunique` function returns the number of unique values in each row."
      ]
    },
    {
      "cell_type": "code",
      "metadata": {
        "id": "v_el31NaUXaA",
        "colab_type": "code",
        "colab": {
          "base_uri": "https://localhost:8080/",
          "height": 202
        },
        "outputId": "d811a5b9-48d8-42ce-fcee-9ab2a802a2e6"
      },
      "source": [
        "df1.nunique(axis=1)"
      ],
      "execution_count": 35,
      "outputs": [
        {
          "output_type": "execute_result",
          "data": {
            "text/plain": [
              "0    5\n",
              "1    5\n",
              "2    6\n",
              "3    6\n",
              "4    7\n",
              "5    7\n",
              "6    6\n",
              "7    7\n",
              "8    7\n",
              "9    7\n",
              "dtype: int64"
            ]
          },
          "metadata": {
            "tags": []
          },
          "execution_count": 35
        }
      ]
    },
    {
      "cell_type": "markdown",
      "metadata": {
        "id": "dkNozZMuVpjg",
        "colab_type": "text"
      },
      "source": [
        "NOTE:  `nunique` counts distinct observations over requested axis. It returns Series with number of distinct observations. Can ignore NaN values."
      ]
    },
    {
      "cell_type": "markdown",
      "metadata": {
        "id": "Zi1CMic3V4vu",
        "colab_type": "text"
      },
      "source": [
        "## Lookup\n",
        "It can be used to look up values in the DataFrame based on the values on other row, column pairs. This function is best explained via an example. Assume we have the following DataFrame:"
      ]
    },
    {
      "cell_type": "code",
      "metadata": {
        "id": "m2OYo0SoUptH",
        "colab_type": "code",
        "colab": {
          "base_uri": "https://localhost:8080/",
          "height": 284
        },
        "outputId": "15eba2b4-b3cf-476a-a132-93ac7f5786e2"
      },
      "source": [
        "df2 = pd.DataFrame(\n",
        "  {\"Day\":     [1, 2, 3, 4, 5, 6, 7, 8],\n",
        "   \"Person\":  [\"Alex\", \"John\", \"Alex\", \"Dereck\", \"Oscar\", \"John\", \"Dereck\", \"Dereck\"],\n",
        "   \"John\":    [4, 7, 8, 9, 2, 6, 6, 5],\n",
        "   \"Alex\":    [4, 6, 9, 2, 6, 6, 5, 5],\n",
        "   \"Oscar\":   [4, 2, 3, 5, 1, 4, 5, 9],\n",
        "   \"Dereck\":  [6, 2, 1, 8, 7, 8, 4, 5]\n",
        "  }\n",
        ")\n",
        "df2"
      ],
      "execution_count": 37,
      "outputs": [
        {
          "output_type": "execute_result",
          "data": {
            "text/html": [
              "<div>\n",
              "<style scoped>\n",
              "    .dataframe tbody tr th:only-of-type {\n",
              "        vertical-align: middle;\n",
              "    }\n",
              "\n",
              "    .dataframe tbody tr th {\n",
              "        vertical-align: top;\n",
              "    }\n",
              "\n",
              "    .dataframe thead th {\n",
              "        text-align: right;\n",
              "    }\n",
              "</style>\n",
              "<table border=\"1\" class=\"dataframe\">\n",
              "  <thead>\n",
              "    <tr style=\"text-align: right;\">\n",
              "      <th></th>\n",
              "      <th>Day</th>\n",
              "      <th>Person</th>\n",
              "      <th>John</th>\n",
              "      <th>Alex</th>\n",
              "      <th>Oscar</th>\n",
              "      <th>Dereck</th>\n",
              "    </tr>\n",
              "  </thead>\n",
              "  <tbody>\n",
              "    <tr>\n",
              "      <th>0</th>\n",
              "      <td>1</td>\n",
              "      <td>Alex</td>\n",
              "      <td>4</td>\n",
              "      <td>4</td>\n",
              "      <td>4</td>\n",
              "      <td>6</td>\n",
              "    </tr>\n",
              "    <tr>\n",
              "      <th>1</th>\n",
              "      <td>2</td>\n",
              "      <td>John</td>\n",
              "      <td>7</td>\n",
              "      <td>6</td>\n",
              "      <td>2</td>\n",
              "      <td>2</td>\n",
              "    </tr>\n",
              "    <tr>\n",
              "      <th>2</th>\n",
              "      <td>3</td>\n",
              "      <td>Alex</td>\n",
              "      <td>8</td>\n",
              "      <td>9</td>\n",
              "      <td>3</td>\n",
              "      <td>1</td>\n",
              "    </tr>\n",
              "    <tr>\n",
              "      <th>3</th>\n",
              "      <td>4</td>\n",
              "      <td>Dereck</td>\n",
              "      <td>9</td>\n",
              "      <td>2</td>\n",
              "      <td>5</td>\n",
              "      <td>8</td>\n",
              "    </tr>\n",
              "    <tr>\n",
              "      <th>4</th>\n",
              "      <td>5</td>\n",
              "      <td>Oscar</td>\n",
              "      <td>2</td>\n",
              "      <td>6</td>\n",
              "      <td>1</td>\n",
              "      <td>7</td>\n",
              "    </tr>\n",
              "    <tr>\n",
              "      <th>5</th>\n",
              "      <td>6</td>\n",
              "      <td>John</td>\n",
              "      <td>6</td>\n",
              "      <td>6</td>\n",
              "      <td>4</td>\n",
              "      <td>8</td>\n",
              "    </tr>\n",
              "    <tr>\n",
              "      <th>6</th>\n",
              "      <td>7</td>\n",
              "      <td>Dereck</td>\n",
              "      <td>6</td>\n",
              "      <td>5</td>\n",
              "      <td>5</td>\n",
              "      <td>4</td>\n",
              "    </tr>\n",
              "    <tr>\n",
              "      <th>7</th>\n",
              "      <td>8</td>\n",
              "      <td>Dereck</td>\n",
              "      <td>5</td>\n",
              "      <td>5</td>\n",
              "      <td>9</td>\n",
              "      <td>5</td>\n",
              "    </tr>\n",
              "  </tbody>\n",
              "</table>\n",
              "</div>"
            ],
            "text/plain": [
              "   Day  Person  John  Alex  Oscar  Dereck\n",
              "0    1    Alex     4     4      4       6\n",
              "1    2    John     7     6      2       2\n",
              "2    3    Alex     8     9      3       1\n",
              "3    4  Dereck     9     2      5       8\n",
              "4    5   Oscar     2     6      1       7\n",
              "5    6    John     6     6      4       8\n",
              "6    7  Dereck     6     5      5       4\n",
              "7    8  Dereck     5     5      9       5"
            ]
          },
          "metadata": {
            "tags": []
          },
          "execution_count": 37
        }
      ]
    },
    {
      "cell_type": "markdown",
      "metadata": {
        "id": "yCrYNLu6Ym9M",
        "colab_type": "text"
      },
      "source": [
        "For each day, we have measurements of 4 people and a column that includes the names of these 4 people. We want to create a new column that shows the measurement of the person in `Person` column. Thus, for the first row, the value in the new column will be 4 (the value in column “Alex”)."
      ]
    },
    {
      "cell_type": "code",
      "metadata": {
        "id": "j9T9JWTcYJKA",
        "colab_type": "code",
        "colab": {
          "base_uri": "https://localhost:8080/",
          "height": 284
        },
        "outputId": "268147f2-1efc-4805-978b-a728c0ccbd84"
      },
      "source": [
        "df2['Person_point'] = df2.lookup(df2.index, df2['Person'])\n",
        "df2"
      ],
      "execution_count": 39,
      "outputs": [
        {
          "output_type": "execute_result",
          "data": {
            "text/html": [
              "<div>\n",
              "<style scoped>\n",
              "    .dataframe tbody tr th:only-of-type {\n",
              "        vertical-align: middle;\n",
              "    }\n",
              "\n",
              "    .dataframe tbody tr th {\n",
              "        vertical-align: top;\n",
              "    }\n",
              "\n",
              "    .dataframe thead th {\n",
              "        text-align: right;\n",
              "    }\n",
              "</style>\n",
              "<table border=\"1\" class=\"dataframe\">\n",
              "  <thead>\n",
              "    <tr style=\"text-align: right;\">\n",
              "      <th></th>\n",
              "      <th>Day</th>\n",
              "      <th>Person</th>\n",
              "      <th>John</th>\n",
              "      <th>Alex</th>\n",
              "      <th>Oscar</th>\n",
              "      <th>Dereck</th>\n",
              "      <th>Person_point</th>\n",
              "    </tr>\n",
              "  </thead>\n",
              "  <tbody>\n",
              "    <tr>\n",
              "      <th>0</th>\n",
              "      <td>1</td>\n",
              "      <td>Alex</td>\n",
              "      <td>4</td>\n",
              "      <td>4</td>\n",
              "      <td>4</td>\n",
              "      <td>6</td>\n",
              "      <td>4</td>\n",
              "    </tr>\n",
              "    <tr>\n",
              "      <th>1</th>\n",
              "      <td>2</td>\n",
              "      <td>John</td>\n",
              "      <td>7</td>\n",
              "      <td>6</td>\n",
              "      <td>2</td>\n",
              "      <td>2</td>\n",
              "      <td>7</td>\n",
              "    </tr>\n",
              "    <tr>\n",
              "      <th>2</th>\n",
              "      <td>3</td>\n",
              "      <td>Alex</td>\n",
              "      <td>8</td>\n",
              "      <td>9</td>\n",
              "      <td>3</td>\n",
              "      <td>1</td>\n",
              "      <td>9</td>\n",
              "    </tr>\n",
              "    <tr>\n",
              "      <th>3</th>\n",
              "      <td>4</td>\n",
              "      <td>Dereck</td>\n",
              "      <td>9</td>\n",
              "      <td>2</td>\n",
              "      <td>5</td>\n",
              "      <td>8</td>\n",
              "      <td>8</td>\n",
              "    </tr>\n",
              "    <tr>\n",
              "      <th>4</th>\n",
              "      <td>5</td>\n",
              "      <td>Oscar</td>\n",
              "      <td>2</td>\n",
              "      <td>6</td>\n",
              "      <td>1</td>\n",
              "      <td>7</td>\n",
              "      <td>1</td>\n",
              "    </tr>\n",
              "    <tr>\n",
              "      <th>5</th>\n",
              "      <td>6</td>\n",
              "      <td>John</td>\n",
              "      <td>6</td>\n",
              "      <td>6</td>\n",
              "      <td>4</td>\n",
              "      <td>8</td>\n",
              "      <td>6</td>\n",
              "    </tr>\n",
              "    <tr>\n",
              "      <th>6</th>\n",
              "      <td>7</td>\n",
              "      <td>Dereck</td>\n",
              "      <td>6</td>\n",
              "      <td>5</td>\n",
              "      <td>5</td>\n",
              "      <td>4</td>\n",
              "      <td>4</td>\n",
              "    </tr>\n",
              "    <tr>\n",
              "      <th>7</th>\n",
              "      <td>8</td>\n",
              "      <td>Dereck</td>\n",
              "      <td>5</td>\n",
              "      <td>5</td>\n",
              "      <td>9</td>\n",
              "      <td>5</td>\n",
              "      <td>5</td>\n",
              "    </tr>\n",
              "  </tbody>\n",
              "</table>\n",
              "</div>"
            ],
            "text/plain": [
              "   Day  Person  John  Alex  Oscar  Dereck  Person_point\n",
              "0    1    Alex     4     4      4       6             4\n",
              "1    2    John     7     6      2       2             7\n",
              "2    3    Alex     8     9      3       1             9\n",
              "3    4  Dereck     9     2      5       8             8\n",
              "4    5   Oscar     2     6      1       7             1\n",
              "5    6    John     6     6      4       8             6\n",
              "6    7  Dereck     6     5      5       4             4\n",
              "7    8  Dereck     5     5      9       5             5"
            ]
          },
          "metadata": {
            "tags": []
          },
          "execution_count": 39
        }
      ]
    },
    {
      "cell_type": "markdown",
      "metadata": {
        "id": "nTBYiJxsY_yj",
        "colab_type": "text"
      },
      "source": [
        "## Infer objects\n",
        "Pandas supports a wide range of data types, one of which is `object`. `object` covers text or mixed (numeric and non-numeric) values. However, it is not preferred to use object data type if a different option is available. Certain operations is executed faster with more specific data types. For example, we prefer to have integer or float data type for numerical values.\n",
        "`infer_objects` attempts to infer better data types for object columns. Consider the following dataframe:"
      ]
    },
    {
      "cell_type": "code",
      "metadata": {
        "id": "ocUDBWs9Yz9Y",
        "colab_type": "code",
        "colab": {
          "base_uri": "https://localhost:8080/",
          "height": 166
        },
        "outputId": "c3e7e3b4-2096-4a76-cc11-4c1cd419abfe"
      },
      "source": [
        "df3 = pd.DataFrame(\n",
        "  {\"A\":     [1, 2, 3, 4],\n",
        "   \"B\":     [2.1, 1.5, 2, 2.1],\n",
        "   \"C\":    [\"True\", \"False\", \"False\", \"True\"],\n",
        "   \"D\":    [\"b\", \"c\", \"d\", \"f\"]\n",
        "  }\n",
        ")\n",
        "df3"
      ],
      "execution_count": 42,
      "outputs": [
        {
          "output_type": "execute_result",
          "data": {
            "text/html": [
              "<div>\n",
              "<style scoped>\n",
              "    .dataframe tbody tr th:only-of-type {\n",
              "        vertical-align: middle;\n",
              "    }\n",
              "\n",
              "    .dataframe tbody tr th {\n",
              "        vertical-align: top;\n",
              "    }\n",
              "\n",
              "    .dataframe thead th {\n",
              "        text-align: right;\n",
              "    }\n",
              "</style>\n",
              "<table border=\"1\" class=\"dataframe\">\n",
              "  <thead>\n",
              "    <tr style=\"text-align: right;\">\n",
              "      <th></th>\n",
              "      <th>A</th>\n",
              "      <th>B</th>\n",
              "      <th>C</th>\n",
              "      <th>D</th>\n",
              "    </tr>\n",
              "  </thead>\n",
              "  <tbody>\n",
              "    <tr>\n",
              "      <th>0</th>\n",
              "      <td>1</td>\n",
              "      <td>2.1</td>\n",
              "      <td>True</td>\n",
              "      <td>b</td>\n",
              "    </tr>\n",
              "    <tr>\n",
              "      <th>1</th>\n",
              "      <td>2</td>\n",
              "      <td>1.5</td>\n",
              "      <td>False</td>\n",
              "      <td>c</td>\n",
              "    </tr>\n",
              "    <tr>\n",
              "      <th>2</th>\n",
              "      <td>3</td>\n",
              "      <td>2.0</td>\n",
              "      <td>False</td>\n",
              "      <td>d</td>\n",
              "    </tr>\n",
              "    <tr>\n",
              "      <th>3</th>\n",
              "      <td>4</td>\n",
              "      <td>2.1</td>\n",
              "      <td>True</td>\n",
              "      <td>f</td>\n",
              "    </tr>\n",
              "  </tbody>\n",
              "</table>\n",
              "</div>"
            ],
            "text/plain": [
              "   A    B      C  D\n",
              "0  1  2.1   True  b\n",
              "1  2  1.5  False  c\n",
              "2  3  2.0  False  d\n",
              "3  4  2.1   True  f"
            ]
          },
          "metadata": {
            "tags": []
          },
          "execution_count": 42
        }
      ]
    },
    {
      "cell_type": "code",
      "metadata": {
        "id": "rbnfQEVSaBZT",
        "colab_type": "code",
        "colab": {
          "base_uri": "https://localhost:8080/",
          "height": 101
        },
        "outputId": "b191fac1-7c3d-4dc5-f56c-10baeb68ee5f"
      },
      "source": [
        "df3.dtypes"
      ],
      "execution_count": 45,
      "outputs": [
        {
          "output_type": "execute_result",
          "data": {
            "text/plain": [
              "A      int64\n",
              "B    float64\n",
              "C     object\n",
              "D     object\n",
              "dtype: object"
            ]
          },
          "metadata": {
            "tags": []
          },
          "execution_count": 45
        }
      ]
    },
    {
      "cell_type": "code",
      "metadata": {
        "id": "rqe55HD0aRoW",
        "colab_type": "code",
        "colab": {
          "base_uri": "https://localhost:8080/",
          "height": 101
        },
        "outputId": "57d11668-fc7d-49d8-885b-06602779e820"
      },
      "source": [
        "df3.infer_objects().dtypes"
      ],
      "execution_count": 46,
      "outputs": [
        {
          "output_type": "execute_result",
          "data": {
            "text/plain": [
              "A      int64\n",
              "B    float64\n",
              "C     object\n",
              "D     object\n",
              "dtype: object"
            ]
          },
          "metadata": {
            "tags": []
          },
          "execution_count": 46
        }
      ]
    },
    {
      "cell_type": "markdown",
      "metadata": {
        "id": "MLXVDgbXayLX",
        "colab_type": "text"
      },
      "source": [
        "NOTE: `infer_objects` seems to be the same as `dtypes`!"
      ]
    },
    {
      "cell_type": "markdown",
      "metadata": {
        "id": "bY-UZdj4auo8",
        "colab_type": "text"
      },
      "source": [
        "## Memory Usage\n",
        "Memory_usage() returns **how much memory each row uses in bytes**. It is useful especially when we work with large dataframes. Consider the following dataframe with 1 million rows."
      ]
    },
    {
      "cell_type": "code",
      "metadata": {
        "id": "LnfV0PEXaoZV",
        "colab_type": "code",
        "colab": {
          "base_uri": "https://localhost:8080/",
          "height": 34
        },
        "outputId": "22556d8a-939a-42fa-a86b-ddb307dc24b5"
      },
      "source": [
        "df_large = pd.DataFrame({'A': np.random.randn(1000000),\n",
        "                    'B': np.random.randint(100, size=1000000)})\n",
        "df_large.shape"
      ],
      "execution_count": 47,
      "outputs": [
        {
          "output_type": "execute_result",
          "data": {
            "text/plain": [
              "(1000000, 2)"
            ]
          },
          "metadata": {
            "tags": []
          },
          "execution_count": 47
        }
      ]
    },
    {
      "cell_type": "markdown",
      "metadata": {
        "id": "rm1-TSiQbTrk",
        "colab_type": "text"
      },
      "source": [
        "And the memory usage for each column in bytes:"
      ]
    },
    {
      "cell_type": "code",
      "metadata": {
        "id": "XiUNjA91bPrf",
        "colab_type": "code",
        "colab": {
          "base_uri": "https://localhost:8080/",
          "height": 34
        },
        "outputId": "674edab5-4e45-4d9c-dddf-b188d976802d"
      },
      "source": [
        "df_large.memory_usage().sum() / (1024**2) #conversion to megabytes"
      ],
      "execution_count": 48,
      "outputs": [
        {
          "output_type": "execute_result",
          "data": {
            "text/plain": [
              "15.2589111328125"
            ]
          },
          "metadata": {
            "tags": []
          },
          "execution_count": 48
        }
      ]
    },
    {
      "cell_type": "markdown",
      "metadata": {
        "id": "RyBz2u5GbiNE",
        "colab_type": "text"
      },
      "source": [
        "## Describe\n",
        "Describe function calculates basic statistics for numeric columns which are count, mean, standard deviation, min and max values, median, first and third quartile. Thus, **it provides a statistical summary of the dataframe**."
      ]
    },
    {
      "cell_type": "code",
      "metadata": {
        "id": "AMda4nHIdM3o",
        "colab_type": "code",
        "colab": {
          "base_uri": "https://localhost:8080/",
          "height": 343
        },
        "outputId": "91675a39-1293-46be-942a-23842269c99e"
      },
      "source": [
        "df1"
      ],
      "execution_count": 53,
      "outputs": [
        {
          "output_type": "execute_result",
          "data": {
            "text/html": [
              "<div>\n",
              "<style scoped>\n",
              "    .dataframe tbody tr th:only-of-type {\n",
              "        vertical-align: middle;\n",
              "    }\n",
              "\n",
              "    .dataframe tbody tr th {\n",
              "        vertical-align: top;\n",
              "    }\n",
              "\n",
              "    .dataframe thead th {\n",
              "        text-align: right;\n",
              "    }\n",
              "</style>\n",
              "<table border=\"1\" class=\"dataframe\">\n",
              "  <thead>\n",
              "    <tr style=\"text-align: right;\">\n",
              "      <th></th>\n",
              "      <th>group</th>\n",
              "      <th>year</th>\n",
              "      <th>new_col</th>\n",
              "      <th>value_1</th>\n",
              "      <th>value_2</th>\n",
              "      <th>cumsum_2</th>\n",
              "      <th>rank_1</th>\n",
              "    </tr>\n",
              "  </thead>\n",
              "  <tbody>\n",
              "    <tr>\n",
              "      <th>0</th>\n",
              "      <td>A</td>\n",
              "      <td>2010</td>\n",
              "      <td>0.332810</td>\n",
              "      <td>2</td>\n",
              "      <td>3</td>\n",
              "      <td>3</td>\n",
              "      <td>2.0</td>\n",
              "    </tr>\n",
              "    <tr>\n",
              "      <th>1</th>\n",
              "      <td>A</td>\n",
              "      <td>2011</td>\n",
              "      <td>0.122312</td>\n",
              "      <td>3</td>\n",
              "      <td>3</td>\n",
              "      <td>6</td>\n",
              "      <td>3.0</td>\n",
              "    </tr>\n",
              "    <tr>\n",
              "      <th>2</th>\n",
              "      <td>B</td>\n",
              "      <td>2012</td>\n",
              "      <td>0.551692</td>\n",
              "      <td>5</td>\n",
              "      <td>1</td>\n",
              "      <td>1</td>\n",
              "      <td>6.0</td>\n",
              "    </tr>\n",
              "    <tr>\n",
              "      <th>3</th>\n",
              "      <td>A</td>\n",
              "      <td>2013</td>\n",
              "      <td>-1.515015</td>\n",
              "      <td>9</td>\n",
              "      <td>4</td>\n",
              "      <td>10</td>\n",
              "      <td>10.0</td>\n",
              "    </tr>\n",
              "    <tr>\n",
              "      <th>4</th>\n",
              "      <td>B</td>\n",
              "      <td>2014</td>\n",
              "      <td>0.078729</td>\n",
              "      <td>6</td>\n",
              "      <td>1</td>\n",
              "      <td>2</td>\n",
              "      <td>7.0</td>\n",
              "    </tr>\n",
              "    <tr>\n",
              "      <th>5</th>\n",
              "      <td>B</td>\n",
              "      <td>2015</td>\n",
              "      <td>-0.375737</td>\n",
              "      <td>7</td>\n",
              "      <td>9</td>\n",
              "      <td>11</td>\n",
              "      <td>8.0</td>\n",
              "    </tr>\n",
              "    <tr>\n",
              "      <th>6</th>\n",
              "      <td>C</td>\n",
              "      <td>2016</td>\n",
              "      <td>-1.159010</td>\n",
              "      <td>4</td>\n",
              "      <td>2</td>\n",
              "      <td>2</td>\n",
              "      <td>4.5</td>\n",
              "    </tr>\n",
              "    <tr>\n",
              "      <th>7</th>\n",
              "      <td>A</td>\n",
              "      <td>2017</td>\n",
              "      <td>-0.161005</td>\n",
              "      <td>8</td>\n",
              "      <td>5</td>\n",
              "      <td>15</td>\n",
              "      <td>9.0</td>\n",
              "    </tr>\n",
              "    <tr>\n",
              "      <th>8</th>\n",
              "      <td>C</td>\n",
              "      <td>2018</td>\n",
              "      <td>0.275412</td>\n",
              "      <td>4</td>\n",
              "      <td>6</td>\n",
              "      <td>8</td>\n",
              "      <td>4.5</td>\n",
              "    </tr>\n",
              "    <tr>\n",
              "      <th>9</th>\n",
              "      <td>C</td>\n",
              "      <td>2019</td>\n",
              "      <td>0.113718</td>\n",
              "      <td>0</td>\n",
              "      <td>9</td>\n",
              "      <td>17</td>\n",
              "      <td>1.0</td>\n",
              "    </tr>\n",
              "  </tbody>\n",
              "</table>\n",
              "</div>"
            ],
            "text/plain": [
              "  group  year   new_col  value_1  value_2  cumsum_2  rank_1\n",
              "0     A  2010  0.332810        2        3         3     2.0\n",
              "1     A  2011  0.122312        3        3         6     3.0\n",
              "2     B  2012  0.551692        5        1         1     6.0\n",
              "3     A  2013 -1.515015        9        4        10    10.0\n",
              "4     B  2014  0.078729        6        1         2     7.0\n",
              "5     B  2015 -0.375737        7        9        11     8.0\n",
              "6     C  2016 -1.159010        4        2         2     4.5\n",
              "7     A  2017 -0.161005        8        5        15     9.0\n",
              "8     C  2018  0.275412        4        6         8     4.5\n",
              "9     C  2019  0.113718        0        9        17     1.0"
            ]
          },
          "metadata": {
            "tags": []
          },
          "execution_count": 53
        }
      ]
    },
    {
      "cell_type": "markdown",
      "metadata": {
        "id": "IAc0PG27dVaX",
        "colab_type": "text"
      },
      "source": [
        "Let's calculate basic statistics for numeric columns."
      ]
    },
    {
      "cell_type": "code",
      "metadata": {
        "id": "JNs4FiHabpE2",
        "colab_type": "code",
        "colab": {
          "base_uri": "https://localhost:8080/",
          "height": 284
        },
        "outputId": "4d3dcf77-9b37-4535-bb06-ad5bfd5d7b9b"
      },
      "source": [
        "df1.describe()"
      ],
      "execution_count": 52,
      "outputs": [
        {
          "output_type": "execute_result",
          "data": {
            "text/html": [
              "<div>\n",
              "<style scoped>\n",
              "    .dataframe tbody tr th:only-of-type {\n",
              "        vertical-align: middle;\n",
              "    }\n",
              "\n",
              "    .dataframe tbody tr th {\n",
              "        vertical-align: top;\n",
              "    }\n",
              "\n",
              "    .dataframe thead th {\n",
              "        text-align: right;\n",
              "    }\n",
              "</style>\n",
              "<table border=\"1\" class=\"dataframe\">\n",
              "  <thead>\n",
              "    <tr style=\"text-align: right;\">\n",
              "      <th></th>\n",
              "      <th>new_col</th>\n",
              "      <th>value_1</th>\n",
              "      <th>value_2</th>\n",
              "      <th>cumsum_2</th>\n",
              "      <th>rank_1</th>\n",
              "    </tr>\n",
              "  </thead>\n",
              "  <tbody>\n",
              "    <tr>\n",
              "      <th>count</th>\n",
              "      <td>10.000000</td>\n",
              "      <td>10.000000</td>\n",
              "      <td>10.000000</td>\n",
              "      <td>10.000000</td>\n",
              "      <td>10.000000</td>\n",
              "    </tr>\n",
              "    <tr>\n",
              "      <th>mean</th>\n",
              "      <td>-0.173609</td>\n",
              "      <td>4.800000</td>\n",
              "      <td>4.300000</td>\n",
              "      <td>7.500000</td>\n",
              "      <td>5.500000</td>\n",
              "    </tr>\n",
              "    <tr>\n",
              "      <th>std</th>\n",
              "      <td>0.669107</td>\n",
              "      <td>2.780887</td>\n",
              "      <td>2.945807</td>\n",
              "      <td>5.681354</td>\n",
              "      <td>3.018462</td>\n",
              "    </tr>\n",
              "    <tr>\n",
              "      <th>min</th>\n",
              "      <td>-1.515015</td>\n",
              "      <td>0.000000</td>\n",
              "      <td>1.000000</td>\n",
              "      <td>1.000000</td>\n",
              "      <td>1.000000</td>\n",
              "    </tr>\n",
              "    <tr>\n",
              "      <th>25%</th>\n",
              "      <td>-0.322054</td>\n",
              "      <td>3.250000</td>\n",
              "      <td>2.250000</td>\n",
              "      <td>2.250000</td>\n",
              "      <td>3.375000</td>\n",
              "    </tr>\n",
              "    <tr>\n",
              "      <th>50%</th>\n",
              "      <td>0.096223</td>\n",
              "      <td>4.500000</td>\n",
              "      <td>3.500000</td>\n",
              "      <td>7.000000</td>\n",
              "      <td>5.250000</td>\n",
              "    </tr>\n",
              "    <tr>\n",
              "      <th>75%</th>\n",
              "      <td>0.237137</td>\n",
              "      <td>6.750000</td>\n",
              "      <td>5.750000</td>\n",
              "      <td>10.750000</td>\n",
              "      <td>7.750000</td>\n",
              "    </tr>\n",
              "    <tr>\n",
              "      <th>max</th>\n",
              "      <td>0.551692</td>\n",
              "      <td>9.000000</td>\n",
              "      <td>9.000000</td>\n",
              "      <td>17.000000</td>\n",
              "      <td>10.000000</td>\n",
              "    </tr>\n",
              "  </tbody>\n",
              "</table>\n",
              "</div>"
            ],
            "text/plain": [
              "         new_col    value_1    value_2   cumsum_2     rank_1\n",
              "count  10.000000  10.000000  10.000000  10.000000  10.000000\n",
              "mean   -0.173609   4.800000   4.300000   7.500000   5.500000\n",
              "std     0.669107   2.780887   2.945807   5.681354   3.018462\n",
              "min    -1.515015   0.000000   1.000000   1.000000   1.000000\n",
              "25%    -0.322054   3.250000   2.250000   2.250000   3.375000\n",
              "50%     0.096223   4.500000   3.500000   7.000000   5.250000\n",
              "75%     0.237137   6.750000   5.750000  10.750000   7.750000\n",
              "max     0.551692   9.000000   9.000000  17.000000  10.000000"
            ]
          },
          "metadata": {
            "tags": []
          },
          "execution_count": 52
        }
      ]
    },
    {
      "cell_type": "markdown",
      "metadata": {
        "id": "8NzD5nr5dfE4",
        "colab_type": "text"
      },
      "source": [
        "## Merge\n",
        "`merge()` combines DataFrames based on values in shared columns. Consider the following two dataframes.\n"
      ]
    },
    {
      "cell_type": "code",
      "metadata": {
        "id": "Irz5e3UrcCdN",
        "colab_type": "code",
        "colab": {
          "base_uri": "https://localhost:8080/",
          "height": 166
        },
        "outputId": "fdb6b61d-b152-42db-d2d9-503f3c1b87f1"
      },
      "source": [
        "df4 = pd.DataFrame(\n",
        "  {\"col_a\":     [1, 2, 3, 4],\n",
        "   \"col_b\":     [\"a\", \"b\", \"c\", \"d\"],\n",
        "   \"col_c\":    [\"True\", \"True\", \"False\", \"True\"]\n",
        "  }\n",
        ")\n",
        "df4"
      ],
      "execution_count": 55,
      "outputs": [
        {
          "output_type": "execute_result",
          "data": {
            "text/html": [
              "<div>\n",
              "<style scoped>\n",
              "    .dataframe tbody tr th:only-of-type {\n",
              "        vertical-align: middle;\n",
              "    }\n",
              "\n",
              "    .dataframe tbody tr th {\n",
              "        vertical-align: top;\n",
              "    }\n",
              "\n",
              "    .dataframe thead th {\n",
              "        text-align: right;\n",
              "    }\n",
              "</style>\n",
              "<table border=\"1\" class=\"dataframe\">\n",
              "  <thead>\n",
              "    <tr style=\"text-align: right;\">\n",
              "      <th></th>\n",
              "      <th>col_a</th>\n",
              "      <th>col_b</th>\n",
              "      <th>col_c</th>\n",
              "    </tr>\n",
              "  </thead>\n",
              "  <tbody>\n",
              "    <tr>\n",
              "      <th>0</th>\n",
              "      <td>1</td>\n",
              "      <td>a</td>\n",
              "      <td>True</td>\n",
              "    </tr>\n",
              "    <tr>\n",
              "      <th>1</th>\n",
              "      <td>2</td>\n",
              "      <td>b</td>\n",
              "      <td>True</td>\n",
              "    </tr>\n",
              "    <tr>\n",
              "      <th>2</th>\n",
              "      <td>3</td>\n",
              "      <td>c</td>\n",
              "      <td>False</td>\n",
              "    </tr>\n",
              "    <tr>\n",
              "      <th>3</th>\n",
              "      <td>4</td>\n",
              "      <td>d</td>\n",
              "      <td>True</td>\n",
              "    </tr>\n",
              "  </tbody>\n",
              "</table>\n",
              "</div>"
            ],
            "text/plain": [
              "   col_a col_b  col_c\n",
              "0      1     a   True\n",
              "1      2     b   True\n",
              "2      3     c  False\n",
              "3      4     d   True"
            ]
          },
          "metadata": {
            "tags": []
          },
          "execution_count": 55
        }
      ]
    },
    {
      "cell_type": "code",
      "metadata": {
        "id": "Db0sZDyYdxXv",
        "colab_type": "code",
        "colab": {
          "base_uri": "https://localhost:8080/",
          "height": 166
        },
        "outputId": "f2bd6633-2955-48d0-8185-40152edb0501"
      },
      "source": [
        "df5 = pd.DataFrame(\n",
        "  {\"col_a\":     [1, 2, 9, 10],\n",
        "   \"col_b\":     [\"a\", \"k\", \"l\", \"m\"],\n",
        "   \"col_c\":    [\"False\", \"False\", \"False\", \"True\"]\n",
        "  }\n",
        ")\n",
        "df5"
      ],
      "execution_count": 56,
      "outputs": [
        {
          "output_type": "execute_result",
          "data": {
            "text/html": [
              "<div>\n",
              "<style scoped>\n",
              "    .dataframe tbody tr th:only-of-type {\n",
              "        vertical-align: middle;\n",
              "    }\n",
              "\n",
              "    .dataframe tbody tr th {\n",
              "        vertical-align: top;\n",
              "    }\n",
              "\n",
              "    .dataframe thead th {\n",
              "        text-align: right;\n",
              "    }\n",
              "</style>\n",
              "<table border=\"1\" class=\"dataframe\">\n",
              "  <thead>\n",
              "    <tr style=\"text-align: right;\">\n",
              "      <th></th>\n",
              "      <th>col_a</th>\n",
              "      <th>col_b</th>\n",
              "      <th>col_c</th>\n",
              "    </tr>\n",
              "  </thead>\n",
              "  <tbody>\n",
              "    <tr>\n",
              "      <th>0</th>\n",
              "      <td>1</td>\n",
              "      <td>a</td>\n",
              "      <td>False</td>\n",
              "    </tr>\n",
              "    <tr>\n",
              "      <th>1</th>\n",
              "      <td>2</td>\n",
              "      <td>k</td>\n",
              "      <td>False</td>\n",
              "    </tr>\n",
              "    <tr>\n",
              "      <th>2</th>\n",
              "      <td>9</td>\n",
              "      <td>l</td>\n",
              "      <td>False</td>\n",
              "    </tr>\n",
              "    <tr>\n",
              "      <th>3</th>\n",
              "      <td>10</td>\n",
              "      <td>m</td>\n",
              "      <td>True</td>\n",
              "    </tr>\n",
              "  </tbody>\n",
              "</table>\n",
              "</div>"
            ],
            "text/plain": [
              "   col_a col_b  col_c\n",
              "0      1     a  False\n",
              "1      2     k  False\n",
              "2      9     l  False\n",
              "3     10     m   True"
            ]
          },
          "metadata": {
            "tags": []
          },
          "execution_count": 56
        }
      ]
    },
    {
      "cell_type": "markdown",
      "metadata": {
        "id": "eZoJCDOKewm4",
        "colab_type": "text"
      },
      "source": [
        "We can merge them based on shared values in a column. The parameter that sets the condition for merging is the `on` parameter."
      ]
    },
    {
      "cell_type": "code",
      "metadata": {
        "id": "_oVwgltTes2e",
        "colab_type": "code",
        "colab": {}
      },
      "source": [
        "df_merge = pd.merge(df4, df5, on=\"col_a\")"
      ],
      "execution_count": 58,
      "outputs": []
    },
    {
      "cell_type": "code",
      "metadata": {
        "id": "_qynBTwSfFrK",
        "colab_type": "code",
        "colab": {
          "base_uri": "https://localhost:8080/",
          "height": 106
        },
        "outputId": "d2d206bb-205f-4fb9-e1e1-dfec64f9b5f6"
      },
      "source": [
        "df_merge"
      ],
      "execution_count": 59,
      "outputs": [
        {
          "output_type": "execute_result",
          "data": {
            "text/html": [
              "<div>\n",
              "<style scoped>\n",
              "    .dataframe tbody tr th:only-of-type {\n",
              "        vertical-align: middle;\n",
              "    }\n",
              "\n",
              "    .dataframe tbody tr th {\n",
              "        vertical-align: top;\n",
              "    }\n",
              "\n",
              "    .dataframe thead th {\n",
              "        text-align: right;\n",
              "    }\n",
              "</style>\n",
              "<table border=\"1\" class=\"dataframe\">\n",
              "  <thead>\n",
              "    <tr style=\"text-align: right;\">\n",
              "      <th></th>\n",
              "      <th>col_a</th>\n",
              "      <th>col_b_x</th>\n",
              "      <th>col_c_x</th>\n",
              "      <th>col_b_y</th>\n",
              "      <th>col_c_y</th>\n",
              "    </tr>\n",
              "  </thead>\n",
              "  <tbody>\n",
              "    <tr>\n",
              "      <th>0</th>\n",
              "      <td>1</td>\n",
              "      <td>a</td>\n",
              "      <td>True</td>\n",
              "      <td>a</td>\n",
              "      <td>False</td>\n",
              "    </tr>\n",
              "    <tr>\n",
              "      <th>1</th>\n",
              "      <td>2</td>\n",
              "      <td>b</td>\n",
              "      <td>True</td>\n",
              "      <td>k</td>\n",
              "      <td>False</td>\n",
              "    </tr>\n",
              "  </tbody>\n",
              "</table>\n",
              "</div>"
            ],
            "text/plain": [
              "   col_a col_b_x col_c_x col_b_y col_c_y\n",
              "0      1       a    True       a   False\n",
              "1      2       b    True       k   False"
            ]
          },
          "metadata": {
            "tags": []
          },
          "execution_count": 59
        }
      ]
    },
    {
      "cell_type": "markdown",
      "metadata": {
        "id": "W6CcJRzhfU5T",
        "colab_type": "text"
      },
      "source": [
        "NOTE:  `df4` and `df5` are merged based on the common values in `col_a`. The how parameter of merge function allows to combine dataframes in different ways. The possible values for how are `inner`, `outer`, `left`, `right`.\n",
        "- `inner`: only rows with same values in the column specified by on parameter (**default value** of how parameter)\n",
        "- `outer`: all the rows\n",
        "- `left`: all rows from left DataFrame\n",
        "- `right`: all rows from right DataFrame"
      ]
    },
    {
      "cell_type": "code",
      "metadata": {
        "id": "XgQep3CefLXu",
        "colab_type": "code",
        "colab": {}
      },
      "source": [
        ""
      ],
      "execution_count": null,
      "outputs": []
    },
    {
      "cell_type": "markdown",
      "metadata": {
        "id": "TNAEVJHff_PM",
        "colab_type": "text"
      },
      "source": [
        "## Select datatypes\n",
        "`select_dtypes` function returns a subset of the DataFrame’s columns based on the condition set on data types. It allows to include or exclude certain data types using include and exlude parameters."
      ]
    },
    {
      "cell_type": "code",
      "metadata": {
        "id": "L8wzYgeOgNLe",
        "colab_type": "code",
        "colab": {
          "base_uri": "https://localhost:8080/",
          "height": 343
        },
        "outputId": "14f7662f-7439-4f6b-eacf-6f1427acda3c"
      },
      "source": [
        "df1"
      ],
      "execution_count": 66,
      "outputs": [
        {
          "output_type": "execute_result",
          "data": {
            "text/html": [
              "<div>\n",
              "<style scoped>\n",
              "    .dataframe tbody tr th:only-of-type {\n",
              "        vertical-align: middle;\n",
              "    }\n",
              "\n",
              "    .dataframe tbody tr th {\n",
              "        vertical-align: top;\n",
              "    }\n",
              "\n",
              "    .dataframe thead th {\n",
              "        text-align: right;\n",
              "    }\n",
              "</style>\n",
              "<table border=\"1\" class=\"dataframe\">\n",
              "  <thead>\n",
              "    <tr style=\"text-align: right;\">\n",
              "      <th></th>\n",
              "      <th>group</th>\n",
              "      <th>year</th>\n",
              "      <th>new_col</th>\n",
              "      <th>value_1</th>\n",
              "      <th>value_2</th>\n",
              "      <th>cumsum_2</th>\n",
              "      <th>rank_1</th>\n",
              "    </tr>\n",
              "  </thead>\n",
              "  <tbody>\n",
              "    <tr>\n",
              "      <th>0</th>\n",
              "      <td>A</td>\n",
              "      <td>2010</td>\n",
              "      <td>0.332810</td>\n",
              "      <td>2</td>\n",
              "      <td>3</td>\n",
              "      <td>3</td>\n",
              "      <td>2.0</td>\n",
              "    </tr>\n",
              "    <tr>\n",
              "      <th>1</th>\n",
              "      <td>A</td>\n",
              "      <td>2011</td>\n",
              "      <td>0.122312</td>\n",
              "      <td>3</td>\n",
              "      <td>3</td>\n",
              "      <td>6</td>\n",
              "      <td>3.0</td>\n",
              "    </tr>\n",
              "    <tr>\n",
              "      <th>2</th>\n",
              "      <td>B</td>\n",
              "      <td>2012</td>\n",
              "      <td>0.551692</td>\n",
              "      <td>5</td>\n",
              "      <td>1</td>\n",
              "      <td>1</td>\n",
              "      <td>6.0</td>\n",
              "    </tr>\n",
              "    <tr>\n",
              "      <th>3</th>\n",
              "      <td>A</td>\n",
              "      <td>2013</td>\n",
              "      <td>-1.515015</td>\n",
              "      <td>9</td>\n",
              "      <td>4</td>\n",
              "      <td>10</td>\n",
              "      <td>10.0</td>\n",
              "    </tr>\n",
              "    <tr>\n",
              "      <th>4</th>\n",
              "      <td>B</td>\n",
              "      <td>2014</td>\n",
              "      <td>0.078729</td>\n",
              "      <td>6</td>\n",
              "      <td>1</td>\n",
              "      <td>2</td>\n",
              "      <td>7.0</td>\n",
              "    </tr>\n",
              "    <tr>\n",
              "      <th>5</th>\n",
              "      <td>B</td>\n",
              "      <td>2015</td>\n",
              "      <td>-0.375737</td>\n",
              "      <td>7</td>\n",
              "      <td>9</td>\n",
              "      <td>11</td>\n",
              "      <td>8.0</td>\n",
              "    </tr>\n",
              "    <tr>\n",
              "      <th>6</th>\n",
              "      <td>C</td>\n",
              "      <td>2016</td>\n",
              "      <td>-1.159010</td>\n",
              "      <td>4</td>\n",
              "      <td>2</td>\n",
              "      <td>2</td>\n",
              "      <td>4.5</td>\n",
              "    </tr>\n",
              "    <tr>\n",
              "      <th>7</th>\n",
              "      <td>A</td>\n",
              "      <td>2017</td>\n",
              "      <td>-0.161005</td>\n",
              "      <td>8</td>\n",
              "      <td>5</td>\n",
              "      <td>15</td>\n",
              "      <td>9.0</td>\n",
              "    </tr>\n",
              "    <tr>\n",
              "      <th>8</th>\n",
              "      <td>C</td>\n",
              "      <td>2018</td>\n",
              "      <td>0.275412</td>\n",
              "      <td>4</td>\n",
              "      <td>6</td>\n",
              "      <td>8</td>\n",
              "      <td>4.5</td>\n",
              "    </tr>\n",
              "    <tr>\n",
              "      <th>9</th>\n",
              "      <td>C</td>\n",
              "      <td>2019</td>\n",
              "      <td>0.113718</td>\n",
              "      <td>0</td>\n",
              "      <td>9</td>\n",
              "      <td>17</td>\n",
              "      <td>1.0</td>\n",
              "    </tr>\n",
              "  </tbody>\n",
              "</table>\n",
              "</div>"
            ],
            "text/plain": [
              "  group  year   new_col  value_1  value_2  cumsum_2  rank_1\n",
              "0     A  2010  0.332810        2        3         3     2.0\n",
              "1     A  2011  0.122312        3        3         6     3.0\n",
              "2     B  2012  0.551692        5        1         1     6.0\n",
              "3     A  2013 -1.515015        9        4        10    10.0\n",
              "4     B  2014  0.078729        6        1         2     7.0\n",
              "5     B  2015 -0.375737        7        9        11     8.0\n",
              "6     C  2016 -1.159010        4        2         2     4.5\n",
              "7     A  2017 -0.161005        8        5        15     9.0\n",
              "8     C  2018  0.275412        4        6         8     4.5\n",
              "9     C  2019  0.113718        0        9        17     1.0"
            ]
          },
          "metadata": {
            "tags": []
          },
          "execution_count": 66
        }
      ]
    },
    {
      "cell_type": "code",
      "metadata": {
        "id": "gZz9NVuugOVE",
        "colab_type": "code",
        "colab": {
          "base_uri": "https://localhost:8080/",
          "height": 151
        },
        "outputId": "9835b6c7-336d-4279-bc7f-29d08510e7ce"
      },
      "source": [
        "df1.dtypes"
      ],
      "execution_count": 65,
      "outputs": [
        {
          "output_type": "execute_result",
          "data": {
            "text/plain": [
              "group        object\n",
              "year         object\n",
              "new_col     float64\n",
              "value_1       int64\n",
              "value_2       int64\n",
              "cumsum_2      int64\n",
              "rank_1      float64\n",
              "dtype: object"
            ]
          },
          "metadata": {
            "tags": []
          },
          "execution_count": 65
        }
      ]
    },
    {
      "cell_type": "code",
      "metadata": {
        "id": "wJ-ihMz2gQsn",
        "colab_type": "code",
        "colab": {
          "base_uri": "https://localhost:8080/",
          "height": 343
        },
        "outputId": "8b95f6fb-7489-4961-bd17-385ce53358e9"
      },
      "source": [
        "# include dtypes of int64\n",
        "df1.select_dtypes(include='int64')"
      ],
      "execution_count": 68,
      "outputs": [
        {
          "output_type": "execute_result",
          "data": {
            "text/html": [
              "<div>\n",
              "<style scoped>\n",
              "    .dataframe tbody tr th:only-of-type {\n",
              "        vertical-align: middle;\n",
              "    }\n",
              "\n",
              "    .dataframe tbody tr th {\n",
              "        vertical-align: top;\n",
              "    }\n",
              "\n",
              "    .dataframe thead th {\n",
              "        text-align: right;\n",
              "    }\n",
              "</style>\n",
              "<table border=\"1\" class=\"dataframe\">\n",
              "  <thead>\n",
              "    <tr style=\"text-align: right;\">\n",
              "      <th></th>\n",
              "      <th>value_1</th>\n",
              "      <th>value_2</th>\n",
              "      <th>cumsum_2</th>\n",
              "    </tr>\n",
              "  </thead>\n",
              "  <tbody>\n",
              "    <tr>\n",
              "      <th>0</th>\n",
              "      <td>2</td>\n",
              "      <td>3</td>\n",
              "      <td>3</td>\n",
              "    </tr>\n",
              "    <tr>\n",
              "      <th>1</th>\n",
              "      <td>3</td>\n",
              "      <td>3</td>\n",
              "      <td>6</td>\n",
              "    </tr>\n",
              "    <tr>\n",
              "      <th>2</th>\n",
              "      <td>5</td>\n",
              "      <td>1</td>\n",
              "      <td>1</td>\n",
              "    </tr>\n",
              "    <tr>\n",
              "      <th>3</th>\n",
              "      <td>9</td>\n",
              "      <td>4</td>\n",
              "      <td>10</td>\n",
              "    </tr>\n",
              "    <tr>\n",
              "      <th>4</th>\n",
              "      <td>6</td>\n",
              "      <td>1</td>\n",
              "      <td>2</td>\n",
              "    </tr>\n",
              "    <tr>\n",
              "      <th>5</th>\n",
              "      <td>7</td>\n",
              "      <td>9</td>\n",
              "      <td>11</td>\n",
              "    </tr>\n",
              "    <tr>\n",
              "      <th>6</th>\n",
              "      <td>4</td>\n",
              "      <td>2</td>\n",
              "      <td>2</td>\n",
              "    </tr>\n",
              "    <tr>\n",
              "      <th>7</th>\n",
              "      <td>8</td>\n",
              "      <td>5</td>\n",
              "      <td>15</td>\n",
              "    </tr>\n",
              "    <tr>\n",
              "      <th>8</th>\n",
              "      <td>4</td>\n",
              "      <td>6</td>\n",
              "      <td>8</td>\n",
              "    </tr>\n",
              "    <tr>\n",
              "      <th>9</th>\n",
              "      <td>0</td>\n",
              "      <td>9</td>\n",
              "      <td>17</td>\n",
              "    </tr>\n",
              "  </tbody>\n",
              "</table>\n",
              "</div>"
            ],
            "text/plain": [
              "   value_1  value_2  cumsum_2\n",
              "0        2        3         3\n",
              "1        3        3         6\n",
              "2        5        1         1\n",
              "3        9        4        10\n",
              "4        6        1         2\n",
              "5        7        9        11\n",
              "6        4        2         2\n",
              "7        8        5        15\n",
              "8        4        6         8\n",
              "9        0        9        17"
            ]
          },
          "metadata": {
            "tags": []
          },
          "execution_count": 68
        }
      ]
    },
    {
      "cell_type": "code",
      "metadata": {
        "id": "0o8Sh8T-gXDk",
        "colab_type": "code",
        "colab": {
          "base_uri": "https://localhost:8080/",
          "height": 343
        },
        "outputId": "2033b1f5-ef7c-4f4c-91ab-3660a098b9b6"
      },
      "source": [
        "# exclude dtypes of int64\n",
        "df1.select_dtypes(exclude='int64')"
      ],
      "execution_count": 70,
      "outputs": [
        {
          "output_type": "execute_result",
          "data": {
            "text/html": [
              "<div>\n",
              "<style scoped>\n",
              "    .dataframe tbody tr th:only-of-type {\n",
              "        vertical-align: middle;\n",
              "    }\n",
              "\n",
              "    .dataframe tbody tr th {\n",
              "        vertical-align: top;\n",
              "    }\n",
              "\n",
              "    .dataframe thead th {\n",
              "        text-align: right;\n",
              "    }\n",
              "</style>\n",
              "<table border=\"1\" class=\"dataframe\">\n",
              "  <thead>\n",
              "    <tr style=\"text-align: right;\">\n",
              "      <th></th>\n",
              "      <th>group</th>\n",
              "      <th>year</th>\n",
              "      <th>new_col</th>\n",
              "      <th>rank_1</th>\n",
              "    </tr>\n",
              "  </thead>\n",
              "  <tbody>\n",
              "    <tr>\n",
              "      <th>0</th>\n",
              "      <td>A</td>\n",
              "      <td>2010</td>\n",
              "      <td>0.332810</td>\n",
              "      <td>2.0</td>\n",
              "    </tr>\n",
              "    <tr>\n",
              "      <th>1</th>\n",
              "      <td>A</td>\n",
              "      <td>2011</td>\n",
              "      <td>0.122312</td>\n",
              "      <td>3.0</td>\n",
              "    </tr>\n",
              "    <tr>\n",
              "      <th>2</th>\n",
              "      <td>B</td>\n",
              "      <td>2012</td>\n",
              "      <td>0.551692</td>\n",
              "      <td>6.0</td>\n",
              "    </tr>\n",
              "    <tr>\n",
              "      <th>3</th>\n",
              "      <td>A</td>\n",
              "      <td>2013</td>\n",
              "      <td>-1.515015</td>\n",
              "      <td>10.0</td>\n",
              "    </tr>\n",
              "    <tr>\n",
              "      <th>4</th>\n",
              "      <td>B</td>\n",
              "      <td>2014</td>\n",
              "      <td>0.078729</td>\n",
              "      <td>7.0</td>\n",
              "    </tr>\n",
              "    <tr>\n",
              "      <th>5</th>\n",
              "      <td>B</td>\n",
              "      <td>2015</td>\n",
              "      <td>-0.375737</td>\n",
              "      <td>8.0</td>\n",
              "    </tr>\n",
              "    <tr>\n",
              "      <th>6</th>\n",
              "      <td>C</td>\n",
              "      <td>2016</td>\n",
              "      <td>-1.159010</td>\n",
              "      <td>4.5</td>\n",
              "    </tr>\n",
              "    <tr>\n",
              "      <th>7</th>\n",
              "      <td>A</td>\n",
              "      <td>2017</td>\n",
              "      <td>-0.161005</td>\n",
              "      <td>9.0</td>\n",
              "    </tr>\n",
              "    <tr>\n",
              "      <th>8</th>\n",
              "      <td>C</td>\n",
              "      <td>2018</td>\n",
              "      <td>0.275412</td>\n",
              "      <td>4.5</td>\n",
              "    </tr>\n",
              "    <tr>\n",
              "      <th>9</th>\n",
              "      <td>C</td>\n",
              "      <td>2019</td>\n",
              "      <td>0.113718</td>\n",
              "      <td>1.0</td>\n",
              "    </tr>\n",
              "  </tbody>\n",
              "</table>\n",
              "</div>"
            ],
            "text/plain": [
              "  group  year   new_col  rank_1\n",
              "0     A  2010  0.332810     2.0\n",
              "1     A  2011  0.122312     3.0\n",
              "2     B  2012  0.551692     6.0\n",
              "3     A  2013 -1.515015    10.0\n",
              "4     B  2014  0.078729     7.0\n",
              "5     B  2015 -0.375737     8.0\n",
              "6     C  2016 -1.159010     4.5\n",
              "7     A  2017 -0.161005     9.0\n",
              "8     C  2018  0.275412     4.5\n",
              "9     C  2019  0.113718     1.0"
            ]
          },
          "metadata": {
            "tags": []
          },
          "execution_count": 70
        }
      ]
    },
    {
      "cell_type": "markdown",
      "metadata": {
        "id": "oL6nLhFIhIoQ",
        "colab_type": "text"
      },
      "source": [
        "## Replace\n",
        "As the name suggests, it allows to replace values in a dataframe."
      ]
    },
    {
      "cell_type": "code",
      "metadata": {
        "id": "tANAIhPIg8vP",
        "colab_type": "code",
        "colab": {
          "base_uri": "https://localhost:8080/",
          "height": 343
        },
        "outputId": "5f4535ce-22a3-41f9-d5fe-fb1d35ff7966"
      },
      "source": [
        "df1.replace('A', 'A_1')"
      ],
      "execution_count": 71,
      "outputs": [
        {
          "output_type": "execute_result",
          "data": {
            "text/html": [
              "<div>\n",
              "<style scoped>\n",
              "    .dataframe tbody tr th:only-of-type {\n",
              "        vertical-align: middle;\n",
              "    }\n",
              "\n",
              "    .dataframe tbody tr th {\n",
              "        vertical-align: top;\n",
              "    }\n",
              "\n",
              "    .dataframe thead th {\n",
              "        text-align: right;\n",
              "    }\n",
              "</style>\n",
              "<table border=\"1\" class=\"dataframe\">\n",
              "  <thead>\n",
              "    <tr style=\"text-align: right;\">\n",
              "      <th></th>\n",
              "      <th>group</th>\n",
              "      <th>year</th>\n",
              "      <th>new_col</th>\n",
              "      <th>value_1</th>\n",
              "      <th>value_2</th>\n",
              "      <th>cumsum_2</th>\n",
              "      <th>rank_1</th>\n",
              "    </tr>\n",
              "  </thead>\n",
              "  <tbody>\n",
              "    <tr>\n",
              "      <th>0</th>\n",
              "      <td>A_1</td>\n",
              "      <td>2010</td>\n",
              "      <td>0.332810</td>\n",
              "      <td>2</td>\n",
              "      <td>3</td>\n",
              "      <td>3</td>\n",
              "      <td>2.0</td>\n",
              "    </tr>\n",
              "    <tr>\n",
              "      <th>1</th>\n",
              "      <td>A_1</td>\n",
              "      <td>2011</td>\n",
              "      <td>0.122312</td>\n",
              "      <td>3</td>\n",
              "      <td>3</td>\n",
              "      <td>6</td>\n",
              "      <td>3.0</td>\n",
              "    </tr>\n",
              "    <tr>\n",
              "      <th>2</th>\n",
              "      <td>B</td>\n",
              "      <td>2012</td>\n",
              "      <td>0.551692</td>\n",
              "      <td>5</td>\n",
              "      <td>1</td>\n",
              "      <td>1</td>\n",
              "      <td>6.0</td>\n",
              "    </tr>\n",
              "    <tr>\n",
              "      <th>3</th>\n",
              "      <td>A_1</td>\n",
              "      <td>2013</td>\n",
              "      <td>-1.515015</td>\n",
              "      <td>9</td>\n",
              "      <td>4</td>\n",
              "      <td>10</td>\n",
              "      <td>10.0</td>\n",
              "    </tr>\n",
              "    <tr>\n",
              "      <th>4</th>\n",
              "      <td>B</td>\n",
              "      <td>2014</td>\n",
              "      <td>0.078729</td>\n",
              "      <td>6</td>\n",
              "      <td>1</td>\n",
              "      <td>2</td>\n",
              "      <td>7.0</td>\n",
              "    </tr>\n",
              "    <tr>\n",
              "      <th>5</th>\n",
              "      <td>B</td>\n",
              "      <td>2015</td>\n",
              "      <td>-0.375737</td>\n",
              "      <td>7</td>\n",
              "      <td>9</td>\n",
              "      <td>11</td>\n",
              "      <td>8.0</td>\n",
              "    </tr>\n",
              "    <tr>\n",
              "      <th>6</th>\n",
              "      <td>C</td>\n",
              "      <td>2016</td>\n",
              "      <td>-1.159010</td>\n",
              "      <td>4</td>\n",
              "      <td>2</td>\n",
              "      <td>2</td>\n",
              "      <td>4.5</td>\n",
              "    </tr>\n",
              "    <tr>\n",
              "      <th>7</th>\n",
              "      <td>A_1</td>\n",
              "      <td>2017</td>\n",
              "      <td>-0.161005</td>\n",
              "      <td>8</td>\n",
              "      <td>5</td>\n",
              "      <td>15</td>\n",
              "      <td>9.0</td>\n",
              "    </tr>\n",
              "    <tr>\n",
              "      <th>8</th>\n",
              "      <td>C</td>\n",
              "      <td>2018</td>\n",
              "      <td>0.275412</td>\n",
              "      <td>4</td>\n",
              "      <td>6</td>\n",
              "      <td>8</td>\n",
              "      <td>4.5</td>\n",
              "    </tr>\n",
              "    <tr>\n",
              "      <th>9</th>\n",
              "      <td>C</td>\n",
              "      <td>2019</td>\n",
              "      <td>0.113718</td>\n",
              "      <td>0</td>\n",
              "      <td>9</td>\n",
              "      <td>17</td>\n",
              "      <td>1.0</td>\n",
              "    </tr>\n",
              "  </tbody>\n",
              "</table>\n",
              "</div>"
            ],
            "text/plain": [
              "  group  year   new_col  value_1  value_2  cumsum_2  rank_1\n",
              "0   A_1  2010  0.332810        2        3         3     2.0\n",
              "1   A_1  2011  0.122312        3        3         6     3.0\n",
              "2     B  2012  0.551692        5        1         1     6.0\n",
              "3   A_1  2013 -1.515015        9        4        10    10.0\n",
              "4     B  2014  0.078729        6        1         2     7.0\n",
              "5     B  2015 -0.375737        7        9        11     8.0\n",
              "6     C  2016 -1.159010        4        2         2     4.5\n",
              "7   A_1  2017 -0.161005        8        5        15     9.0\n",
              "8     C  2018  0.275412        4        6         8     4.5\n",
              "9     C  2019  0.113718        0        9        17     1.0"
            ]
          },
          "metadata": {
            "tags": []
          },
          "execution_count": 71
        }
      ]
    },
    {
      "cell_type": "markdown",
      "metadata": {
        "id": "od3PYBrnhaon",
        "colab_type": "text"
      },
      "source": [
        "NOTE: The first parameter is the value to replaced and the second one is the new value."
      ]
    },
    {
      "cell_type": "markdown",
      "metadata": {
        "id": "ViZS9_9ohhUu",
        "colab_type": "text"
      },
      "source": [
        "We can also pass in a dictionary for multiple replacements at the same time."
      ]
    },
    {
      "cell_type": "code",
      "metadata": {
        "id": "HLQ0KAqLhQn1",
        "colab_type": "code",
        "colab": {
          "base_uri": "https://localhost:8080/",
          "height": 343
        },
        "outputId": "5bd5293f-f92b-4c03-a59a-1dc164d7af9a"
      },
      "source": [
        "df1.replace({'A':'A_1', 'B':'B_1'})"
      ],
      "execution_count": 72,
      "outputs": [
        {
          "output_type": "execute_result",
          "data": {
            "text/html": [
              "<div>\n",
              "<style scoped>\n",
              "    .dataframe tbody tr th:only-of-type {\n",
              "        vertical-align: middle;\n",
              "    }\n",
              "\n",
              "    .dataframe tbody tr th {\n",
              "        vertical-align: top;\n",
              "    }\n",
              "\n",
              "    .dataframe thead th {\n",
              "        text-align: right;\n",
              "    }\n",
              "</style>\n",
              "<table border=\"1\" class=\"dataframe\">\n",
              "  <thead>\n",
              "    <tr style=\"text-align: right;\">\n",
              "      <th></th>\n",
              "      <th>group</th>\n",
              "      <th>year</th>\n",
              "      <th>new_col</th>\n",
              "      <th>value_1</th>\n",
              "      <th>value_2</th>\n",
              "      <th>cumsum_2</th>\n",
              "      <th>rank_1</th>\n",
              "    </tr>\n",
              "  </thead>\n",
              "  <tbody>\n",
              "    <tr>\n",
              "      <th>0</th>\n",
              "      <td>A_1</td>\n",
              "      <td>2010</td>\n",
              "      <td>0.332810</td>\n",
              "      <td>2</td>\n",
              "      <td>3</td>\n",
              "      <td>3</td>\n",
              "      <td>2.0</td>\n",
              "    </tr>\n",
              "    <tr>\n",
              "      <th>1</th>\n",
              "      <td>A_1</td>\n",
              "      <td>2011</td>\n",
              "      <td>0.122312</td>\n",
              "      <td>3</td>\n",
              "      <td>3</td>\n",
              "      <td>6</td>\n",
              "      <td>3.0</td>\n",
              "    </tr>\n",
              "    <tr>\n",
              "      <th>2</th>\n",
              "      <td>B_1</td>\n",
              "      <td>2012</td>\n",
              "      <td>0.551692</td>\n",
              "      <td>5</td>\n",
              "      <td>1</td>\n",
              "      <td>1</td>\n",
              "      <td>6.0</td>\n",
              "    </tr>\n",
              "    <tr>\n",
              "      <th>3</th>\n",
              "      <td>A_1</td>\n",
              "      <td>2013</td>\n",
              "      <td>-1.515015</td>\n",
              "      <td>9</td>\n",
              "      <td>4</td>\n",
              "      <td>10</td>\n",
              "      <td>10.0</td>\n",
              "    </tr>\n",
              "    <tr>\n",
              "      <th>4</th>\n",
              "      <td>B_1</td>\n",
              "      <td>2014</td>\n",
              "      <td>0.078729</td>\n",
              "      <td>6</td>\n",
              "      <td>1</td>\n",
              "      <td>2</td>\n",
              "      <td>7.0</td>\n",
              "    </tr>\n",
              "    <tr>\n",
              "      <th>5</th>\n",
              "      <td>B_1</td>\n",
              "      <td>2015</td>\n",
              "      <td>-0.375737</td>\n",
              "      <td>7</td>\n",
              "      <td>9</td>\n",
              "      <td>11</td>\n",
              "      <td>8.0</td>\n",
              "    </tr>\n",
              "    <tr>\n",
              "      <th>6</th>\n",
              "      <td>C</td>\n",
              "      <td>2016</td>\n",
              "      <td>-1.159010</td>\n",
              "      <td>4</td>\n",
              "      <td>2</td>\n",
              "      <td>2</td>\n",
              "      <td>4.5</td>\n",
              "    </tr>\n",
              "    <tr>\n",
              "      <th>7</th>\n",
              "      <td>A_1</td>\n",
              "      <td>2017</td>\n",
              "      <td>-0.161005</td>\n",
              "      <td>8</td>\n",
              "      <td>5</td>\n",
              "      <td>15</td>\n",
              "      <td>9.0</td>\n",
              "    </tr>\n",
              "    <tr>\n",
              "      <th>8</th>\n",
              "      <td>C</td>\n",
              "      <td>2018</td>\n",
              "      <td>0.275412</td>\n",
              "      <td>4</td>\n",
              "      <td>6</td>\n",
              "      <td>8</td>\n",
              "      <td>4.5</td>\n",
              "    </tr>\n",
              "    <tr>\n",
              "      <th>9</th>\n",
              "      <td>C</td>\n",
              "      <td>2019</td>\n",
              "      <td>0.113718</td>\n",
              "      <td>0</td>\n",
              "      <td>9</td>\n",
              "      <td>17</td>\n",
              "      <td>1.0</td>\n",
              "    </tr>\n",
              "  </tbody>\n",
              "</table>\n",
              "</div>"
            ],
            "text/plain": [
              "  group  year   new_col  value_1  value_2  cumsum_2  rank_1\n",
              "0   A_1  2010  0.332810        2        3         3     2.0\n",
              "1   A_1  2011  0.122312        3        3         6     3.0\n",
              "2   B_1  2012  0.551692        5        1         1     6.0\n",
              "3   A_1  2013 -1.515015        9        4        10    10.0\n",
              "4   B_1  2014  0.078729        6        1         2     7.0\n",
              "5   B_1  2015 -0.375737        7        9        11     8.0\n",
              "6     C  2016 -1.159010        4        2         2     4.5\n",
              "7   A_1  2017 -0.161005        8        5        15     9.0\n",
              "8     C  2018  0.275412        4        6         8     4.5\n",
              "9     C  2019  0.113718        0        9        17     1.0"
            ]
          },
          "metadata": {
            "tags": []
          },
          "execution_count": 72
        }
      ]
    },
    {
      "cell_type": "markdown",
      "metadata": {
        "id": "IMs8ID0Xhsqw",
        "colab_type": "text"
      },
      "source": [
        "## Applying a function to a dataframe\n",
        "`applymap` function is used to apply a function to a dataframe elementwise. \n",
        "\n",
        "Please note that if a vectorized version of an operation is available, it should be preferred over applymap. For instance, if we want to multiply each element by a number, we don’t need and should not use applymap function. A simple vectorized operation (e.g. df * 4 ) is much faster in that case.\n",
        "\n",
        "However, there might be some cases where we do not have the option of vectorized operation. For instance, we can change the style of a dataframe using Style property of pandas dataframes. The following function changes the color of negative values as red."
      ]
    },
    {
      "cell_type": "code",
      "metadata": {
        "id": "66Z4JokjiRlN",
        "colab_type": "code",
        "colab": {
          "base_uri": "https://localhost:8080/",
          "height": 474
        },
        "outputId": "9f4a348a-299a-47e4-89ab-cb511e9d21d2"
      },
      "source": [
        "np.random.seed(24)\n",
        "df = pd.DataFrame({'A': np.linspace(1, 10, 10)})\n",
        "df = pd.concat([df, pd.DataFrame(np.random.randn(10, 4), columns=list('BCDE'))],\n",
        "               axis=1)\n",
        "print(\"Original array:\")\n",
        "print(df)\n",
        "\n",
        "# function to apply on dataframe\n",
        "def color_negative_red(val):\n",
        "    color = 'red' if val < 0 else 'black'\n",
        "    return 'color: %s' % color\n",
        "\n",
        "print(\"\\nNegative numbers red and positive numbers black:\")\n",
        "df.style.applymap(color_negative_red) # applying red color on negative values"
      ],
      "execution_count": 82,
      "outputs": [
        {
          "output_type": "stream",
          "text": [
            "Original array:\n",
            "      A         B         C         D         E\n",
            "0   1.0  1.329212 -0.770033 -0.316280 -0.990810\n",
            "1   2.0 -1.070816 -1.438713  0.564417  0.295722\n",
            "2   3.0 -1.626404  0.219565  0.678805  1.889273\n",
            "3   4.0  0.961538  0.104011 -0.481165  0.850229\n",
            "4   5.0  1.453425  1.057737  0.165562  0.515018\n",
            "5   6.0 -1.336936  0.562861  1.392855 -0.063328\n",
            "6   7.0  0.121668  1.207603 -0.002040  1.627796\n",
            "7   8.0  0.354493  1.037528 -0.385684  0.519818\n",
            "8   9.0  1.686583 -1.325963  1.428984 -2.089354\n",
            "9  10.0 -0.129820  0.631523 -0.586538  0.290720\n",
            "\n",
            "Negative numbers red and positive numbers black:\n"
          ],
          "name": "stdout"
        },
        {
          "output_type": "execute_result",
          "data": {
            "text/html": [
              "<style  type=\"text/css\" >\n",
              "    #T_6142c0a2_c8ee_11ea_a01e_0242ac1c0002row0_col0 {\n",
              "            color:  black;\n",
              "        }    #T_6142c0a2_c8ee_11ea_a01e_0242ac1c0002row0_col1 {\n",
              "            color:  black;\n",
              "        }    #T_6142c0a2_c8ee_11ea_a01e_0242ac1c0002row0_col2 {\n",
              "            color:  red;\n",
              "        }    #T_6142c0a2_c8ee_11ea_a01e_0242ac1c0002row0_col3 {\n",
              "            color:  red;\n",
              "        }    #T_6142c0a2_c8ee_11ea_a01e_0242ac1c0002row0_col4 {\n",
              "            color:  red;\n",
              "        }    #T_6142c0a2_c8ee_11ea_a01e_0242ac1c0002row1_col0 {\n",
              "            color:  black;\n",
              "        }    #T_6142c0a2_c8ee_11ea_a01e_0242ac1c0002row1_col1 {\n",
              "            color:  red;\n",
              "        }    #T_6142c0a2_c8ee_11ea_a01e_0242ac1c0002row1_col2 {\n",
              "            color:  red;\n",
              "        }    #T_6142c0a2_c8ee_11ea_a01e_0242ac1c0002row1_col3 {\n",
              "            color:  black;\n",
              "        }    #T_6142c0a2_c8ee_11ea_a01e_0242ac1c0002row1_col4 {\n",
              "            color:  black;\n",
              "        }    #T_6142c0a2_c8ee_11ea_a01e_0242ac1c0002row2_col0 {\n",
              "            color:  black;\n",
              "        }    #T_6142c0a2_c8ee_11ea_a01e_0242ac1c0002row2_col1 {\n",
              "            color:  red;\n",
              "        }    #T_6142c0a2_c8ee_11ea_a01e_0242ac1c0002row2_col2 {\n",
              "            color:  black;\n",
              "        }    #T_6142c0a2_c8ee_11ea_a01e_0242ac1c0002row2_col3 {\n",
              "            color:  black;\n",
              "        }    #T_6142c0a2_c8ee_11ea_a01e_0242ac1c0002row2_col4 {\n",
              "            color:  black;\n",
              "        }    #T_6142c0a2_c8ee_11ea_a01e_0242ac1c0002row3_col0 {\n",
              "            color:  black;\n",
              "        }    #T_6142c0a2_c8ee_11ea_a01e_0242ac1c0002row3_col1 {\n",
              "            color:  black;\n",
              "        }    #T_6142c0a2_c8ee_11ea_a01e_0242ac1c0002row3_col2 {\n",
              "            color:  black;\n",
              "        }    #T_6142c0a2_c8ee_11ea_a01e_0242ac1c0002row3_col3 {\n",
              "            color:  red;\n",
              "        }    #T_6142c0a2_c8ee_11ea_a01e_0242ac1c0002row3_col4 {\n",
              "            color:  black;\n",
              "        }    #T_6142c0a2_c8ee_11ea_a01e_0242ac1c0002row4_col0 {\n",
              "            color:  black;\n",
              "        }    #T_6142c0a2_c8ee_11ea_a01e_0242ac1c0002row4_col1 {\n",
              "            color:  black;\n",
              "        }    #T_6142c0a2_c8ee_11ea_a01e_0242ac1c0002row4_col2 {\n",
              "            color:  black;\n",
              "        }    #T_6142c0a2_c8ee_11ea_a01e_0242ac1c0002row4_col3 {\n",
              "            color:  black;\n",
              "        }    #T_6142c0a2_c8ee_11ea_a01e_0242ac1c0002row4_col4 {\n",
              "            color:  black;\n",
              "        }    #T_6142c0a2_c8ee_11ea_a01e_0242ac1c0002row5_col0 {\n",
              "            color:  black;\n",
              "        }    #T_6142c0a2_c8ee_11ea_a01e_0242ac1c0002row5_col1 {\n",
              "            color:  red;\n",
              "        }    #T_6142c0a2_c8ee_11ea_a01e_0242ac1c0002row5_col2 {\n",
              "            color:  black;\n",
              "        }    #T_6142c0a2_c8ee_11ea_a01e_0242ac1c0002row5_col3 {\n",
              "            color:  black;\n",
              "        }    #T_6142c0a2_c8ee_11ea_a01e_0242ac1c0002row5_col4 {\n",
              "            color:  red;\n",
              "        }    #T_6142c0a2_c8ee_11ea_a01e_0242ac1c0002row6_col0 {\n",
              "            color:  black;\n",
              "        }    #T_6142c0a2_c8ee_11ea_a01e_0242ac1c0002row6_col1 {\n",
              "            color:  black;\n",
              "        }    #T_6142c0a2_c8ee_11ea_a01e_0242ac1c0002row6_col2 {\n",
              "            color:  black;\n",
              "        }    #T_6142c0a2_c8ee_11ea_a01e_0242ac1c0002row6_col3 {\n",
              "            color:  red;\n",
              "        }    #T_6142c0a2_c8ee_11ea_a01e_0242ac1c0002row6_col4 {\n",
              "            color:  black;\n",
              "        }    #T_6142c0a2_c8ee_11ea_a01e_0242ac1c0002row7_col0 {\n",
              "            color:  black;\n",
              "        }    #T_6142c0a2_c8ee_11ea_a01e_0242ac1c0002row7_col1 {\n",
              "            color:  black;\n",
              "        }    #T_6142c0a2_c8ee_11ea_a01e_0242ac1c0002row7_col2 {\n",
              "            color:  black;\n",
              "        }    #T_6142c0a2_c8ee_11ea_a01e_0242ac1c0002row7_col3 {\n",
              "            color:  red;\n",
              "        }    #T_6142c0a2_c8ee_11ea_a01e_0242ac1c0002row7_col4 {\n",
              "            color:  black;\n",
              "        }    #T_6142c0a2_c8ee_11ea_a01e_0242ac1c0002row8_col0 {\n",
              "            color:  black;\n",
              "        }    #T_6142c0a2_c8ee_11ea_a01e_0242ac1c0002row8_col1 {\n",
              "            color:  black;\n",
              "        }    #T_6142c0a2_c8ee_11ea_a01e_0242ac1c0002row8_col2 {\n",
              "            color:  red;\n",
              "        }    #T_6142c0a2_c8ee_11ea_a01e_0242ac1c0002row8_col3 {\n",
              "            color:  black;\n",
              "        }    #T_6142c0a2_c8ee_11ea_a01e_0242ac1c0002row8_col4 {\n",
              "            color:  red;\n",
              "        }    #T_6142c0a2_c8ee_11ea_a01e_0242ac1c0002row9_col0 {\n",
              "            color:  black;\n",
              "        }    #T_6142c0a2_c8ee_11ea_a01e_0242ac1c0002row9_col1 {\n",
              "            color:  red;\n",
              "        }    #T_6142c0a2_c8ee_11ea_a01e_0242ac1c0002row9_col2 {\n",
              "            color:  black;\n",
              "        }    #T_6142c0a2_c8ee_11ea_a01e_0242ac1c0002row9_col3 {\n",
              "            color:  red;\n",
              "        }    #T_6142c0a2_c8ee_11ea_a01e_0242ac1c0002row9_col4 {\n",
              "            color:  black;\n",
              "        }</style><table id=\"T_6142c0a2_c8ee_11ea_a01e_0242ac1c0002\" ><thead>    <tr>        <th class=\"blank level0\" ></th>        <th class=\"col_heading level0 col0\" >A</th>        <th class=\"col_heading level0 col1\" >B</th>        <th class=\"col_heading level0 col2\" >C</th>        <th class=\"col_heading level0 col3\" >D</th>        <th class=\"col_heading level0 col4\" >E</th>    </tr></thead><tbody>\n",
              "                <tr>\n",
              "                        <th id=\"T_6142c0a2_c8ee_11ea_a01e_0242ac1c0002level0_row0\" class=\"row_heading level0 row0\" >0</th>\n",
              "                        <td id=\"T_6142c0a2_c8ee_11ea_a01e_0242ac1c0002row0_col0\" class=\"data row0 col0\" >1.000000</td>\n",
              "                        <td id=\"T_6142c0a2_c8ee_11ea_a01e_0242ac1c0002row0_col1\" class=\"data row0 col1\" >1.329212</td>\n",
              "                        <td id=\"T_6142c0a2_c8ee_11ea_a01e_0242ac1c0002row0_col2\" class=\"data row0 col2\" >-0.770033</td>\n",
              "                        <td id=\"T_6142c0a2_c8ee_11ea_a01e_0242ac1c0002row0_col3\" class=\"data row0 col3\" >-0.316280</td>\n",
              "                        <td id=\"T_6142c0a2_c8ee_11ea_a01e_0242ac1c0002row0_col4\" class=\"data row0 col4\" >-0.990810</td>\n",
              "            </tr>\n",
              "            <tr>\n",
              "                        <th id=\"T_6142c0a2_c8ee_11ea_a01e_0242ac1c0002level0_row1\" class=\"row_heading level0 row1\" >1</th>\n",
              "                        <td id=\"T_6142c0a2_c8ee_11ea_a01e_0242ac1c0002row1_col0\" class=\"data row1 col0\" >2.000000</td>\n",
              "                        <td id=\"T_6142c0a2_c8ee_11ea_a01e_0242ac1c0002row1_col1\" class=\"data row1 col1\" >-1.070816</td>\n",
              "                        <td id=\"T_6142c0a2_c8ee_11ea_a01e_0242ac1c0002row1_col2\" class=\"data row1 col2\" >-1.438713</td>\n",
              "                        <td id=\"T_6142c0a2_c8ee_11ea_a01e_0242ac1c0002row1_col3\" class=\"data row1 col3\" >0.564417</td>\n",
              "                        <td id=\"T_6142c0a2_c8ee_11ea_a01e_0242ac1c0002row1_col4\" class=\"data row1 col4\" >0.295722</td>\n",
              "            </tr>\n",
              "            <tr>\n",
              "                        <th id=\"T_6142c0a2_c8ee_11ea_a01e_0242ac1c0002level0_row2\" class=\"row_heading level0 row2\" >2</th>\n",
              "                        <td id=\"T_6142c0a2_c8ee_11ea_a01e_0242ac1c0002row2_col0\" class=\"data row2 col0\" >3.000000</td>\n",
              "                        <td id=\"T_6142c0a2_c8ee_11ea_a01e_0242ac1c0002row2_col1\" class=\"data row2 col1\" >-1.626404</td>\n",
              "                        <td id=\"T_6142c0a2_c8ee_11ea_a01e_0242ac1c0002row2_col2\" class=\"data row2 col2\" >0.219565</td>\n",
              "                        <td id=\"T_6142c0a2_c8ee_11ea_a01e_0242ac1c0002row2_col3\" class=\"data row2 col3\" >0.678805</td>\n",
              "                        <td id=\"T_6142c0a2_c8ee_11ea_a01e_0242ac1c0002row2_col4\" class=\"data row2 col4\" >1.889273</td>\n",
              "            </tr>\n",
              "            <tr>\n",
              "                        <th id=\"T_6142c0a2_c8ee_11ea_a01e_0242ac1c0002level0_row3\" class=\"row_heading level0 row3\" >3</th>\n",
              "                        <td id=\"T_6142c0a2_c8ee_11ea_a01e_0242ac1c0002row3_col0\" class=\"data row3 col0\" >4.000000</td>\n",
              "                        <td id=\"T_6142c0a2_c8ee_11ea_a01e_0242ac1c0002row3_col1\" class=\"data row3 col1\" >0.961538</td>\n",
              "                        <td id=\"T_6142c0a2_c8ee_11ea_a01e_0242ac1c0002row3_col2\" class=\"data row3 col2\" >0.104011</td>\n",
              "                        <td id=\"T_6142c0a2_c8ee_11ea_a01e_0242ac1c0002row3_col3\" class=\"data row3 col3\" >-0.481165</td>\n",
              "                        <td id=\"T_6142c0a2_c8ee_11ea_a01e_0242ac1c0002row3_col4\" class=\"data row3 col4\" >0.850229</td>\n",
              "            </tr>\n",
              "            <tr>\n",
              "                        <th id=\"T_6142c0a2_c8ee_11ea_a01e_0242ac1c0002level0_row4\" class=\"row_heading level0 row4\" >4</th>\n",
              "                        <td id=\"T_6142c0a2_c8ee_11ea_a01e_0242ac1c0002row4_col0\" class=\"data row4 col0\" >5.000000</td>\n",
              "                        <td id=\"T_6142c0a2_c8ee_11ea_a01e_0242ac1c0002row4_col1\" class=\"data row4 col1\" >1.453425</td>\n",
              "                        <td id=\"T_6142c0a2_c8ee_11ea_a01e_0242ac1c0002row4_col2\" class=\"data row4 col2\" >1.057737</td>\n",
              "                        <td id=\"T_6142c0a2_c8ee_11ea_a01e_0242ac1c0002row4_col3\" class=\"data row4 col3\" >0.165562</td>\n",
              "                        <td id=\"T_6142c0a2_c8ee_11ea_a01e_0242ac1c0002row4_col4\" class=\"data row4 col4\" >0.515018</td>\n",
              "            </tr>\n",
              "            <tr>\n",
              "                        <th id=\"T_6142c0a2_c8ee_11ea_a01e_0242ac1c0002level0_row5\" class=\"row_heading level0 row5\" >5</th>\n",
              "                        <td id=\"T_6142c0a2_c8ee_11ea_a01e_0242ac1c0002row5_col0\" class=\"data row5 col0\" >6.000000</td>\n",
              "                        <td id=\"T_6142c0a2_c8ee_11ea_a01e_0242ac1c0002row5_col1\" class=\"data row5 col1\" >-1.336936</td>\n",
              "                        <td id=\"T_6142c0a2_c8ee_11ea_a01e_0242ac1c0002row5_col2\" class=\"data row5 col2\" >0.562861</td>\n",
              "                        <td id=\"T_6142c0a2_c8ee_11ea_a01e_0242ac1c0002row5_col3\" class=\"data row5 col3\" >1.392855</td>\n",
              "                        <td id=\"T_6142c0a2_c8ee_11ea_a01e_0242ac1c0002row5_col4\" class=\"data row5 col4\" >-0.063328</td>\n",
              "            </tr>\n",
              "            <tr>\n",
              "                        <th id=\"T_6142c0a2_c8ee_11ea_a01e_0242ac1c0002level0_row6\" class=\"row_heading level0 row6\" >6</th>\n",
              "                        <td id=\"T_6142c0a2_c8ee_11ea_a01e_0242ac1c0002row6_col0\" class=\"data row6 col0\" >7.000000</td>\n",
              "                        <td id=\"T_6142c0a2_c8ee_11ea_a01e_0242ac1c0002row6_col1\" class=\"data row6 col1\" >0.121668</td>\n",
              "                        <td id=\"T_6142c0a2_c8ee_11ea_a01e_0242ac1c0002row6_col2\" class=\"data row6 col2\" >1.207603</td>\n",
              "                        <td id=\"T_6142c0a2_c8ee_11ea_a01e_0242ac1c0002row6_col3\" class=\"data row6 col3\" >-0.002040</td>\n",
              "                        <td id=\"T_6142c0a2_c8ee_11ea_a01e_0242ac1c0002row6_col4\" class=\"data row6 col4\" >1.627796</td>\n",
              "            </tr>\n",
              "            <tr>\n",
              "                        <th id=\"T_6142c0a2_c8ee_11ea_a01e_0242ac1c0002level0_row7\" class=\"row_heading level0 row7\" >7</th>\n",
              "                        <td id=\"T_6142c0a2_c8ee_11ea_a01e_0242ac1c0002row7_col0\" class=\"data row7 col0\" >8.000000</td>\n",
              "                        <td id=\"T_6142c0a2_c8ee_11ea_a01e_0242ac1c0002row7_col1\" class=\"data row7 col1\" >0.354493</td>\n",
              "                        <td id=\"T_6142c0a2_c8ee_11ea_a01e_0242ac1c0002row7_col2\" class=\"data row7 col2\" >1.037528</td>\n",
              "                        <td id=\"T_6142c0a2_c8ee_11ea_a01e_0242ac1c0002row7_col3\" class=\"data row7 col3\" >-0.385684</td>\n",
              "                        <td id=\"T_6142c0a2_c8ee_11ea_a01e_0242ac1c0002row7_col4\" class=\"data row7 col4\" >0.519818</td>\n",
              "            </tr>\n",
              "            <tr>\n",
              "                        <th id=\"T_6142c0a2_c8ee_11ea_a01e_0242ac1c0002level0_row8\" class=\"row_heading level0 row8\" >8</th>\n",
              "                        <td id=\"T_6142c0a2_c8ee_11ea_a01e_0242ac1c0002row8_col0\" class=\"data row8 col0\" >9.000000</td>\n",
              "                        <td id=\"T_6142c0a2_c8ee_11ea_a01e_0242ac1c0002row8_col1\" class=\"data row8 col1\" >1.686583</td>\n",
              "                        <td id=\"T_6142c0a2_c8ee_11ea_a01e_0242ac1c0002row8_col2\" class=\"data row8 col2\" >-1.325963</td>\n",
              "                        <td id=\"T_6142c0a2_c8ee_11ea_a01e_0242ac1c0002row8_col3\" class=\"data row8 col3\" >1.428984</td>\n",
              "                        <td id=\"T_6142c0a2_c8ee_11ea_a01e_0242ac1c0002row8_col4\" class=\"data row8 col4\" >-2.089354</td>\n",
              "            </tr>\n",
              "            <tr>\n",
              "                        <th id=\"T_6142c0a2_c8ee_11ea_a01e_0242ac1c0002level0_row9\" class=\"row_heading level0 row9\" >9</th>\n",
              "                        <td id=\"T_6142c0a2_c8ee_11ea_a01e_0242ac1c0002row9_col0\" class=\"data row9 col0\" >10.000000</td>\n",
              "                        <td id=\"T_6142c0a2_c8ee_11ea_a01e_0242ac1c0002row9_col1\" class=\"data row9 col1\" >-0.129820</td>\n",
              "                        <td id=\"T_6142c0a2_c8ee_11ea_a01e_0242ac1c0002row9_col2\" class=\"data row9 col2\" >0.631523</td>\n",
              "                        <td id=\"T_6142c0a2_c8ee_11ea_a01e_0242ac1c0002row9_col3\" class=\"data row9 col3\" >-0.586538</td>\n",
              "                        <td id=\"T_6142c0a2_c8ee_11ea_a01e_0242ac1c0002row9_col4\" class=\"data row9 col4\" >0.290720</td>\n",
              "            </tr>\n",
              "    </tbody></table>"
            ],
            "text/plain": [
              "<pandas.io.formats.style.Styler at 0x7ff70b051dd8>"
            ]
          },
          "metadata": {
            "tags": []
          },
          "execution_count": 82
        }
      ]
    },
    {
      "cell_type": "code",
      "metadata": {
        "id": "XaLtaRyryhMN",
        "colab_type": "code",
        "colab": {}
      },
      "source": [
        ""
      ],
      "execution_count": null,
      "outputs": []
    }
  ]
}